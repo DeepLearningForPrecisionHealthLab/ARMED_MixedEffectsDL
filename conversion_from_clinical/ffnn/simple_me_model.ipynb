{
 "metadata": {
  "language_info": {
   "codemirror_mode": {
    "name": "ipython",
    "version": 3
   },
   "file_extension": ".py",
   "mimetype": "text/x-python",
   "name": "python",
   "nbconvert_exporter": "python",
   "pygments_lexer": "ipython3",
   "version": "3.8.5-final"
  },
  "orig_nbformat": 2,
  "kernelspec": {
   "name": "python38564bit33533c998563450c8dda6dae3836e7da",
   "display_name": "Python 3.8.5 64-bit",
   "language": "python"
  }
 },
 "nbformat": 4,
 "nbformat_minor": 2,
 "cells": [
  {
   "cell_type": "code",
   "execution_count": 1,
   "metadata": {},
   "outputs": [
    {
     "output_type": "stream",
     "name": "stdout",
     "text": [
      "[PhysicalDevice(name='/physical_device:XLA_GPU:0', device_type='XLA_GPU')]\n"
     ]
    }
   ],
   "source": [
    "# Limit usage to GPU 1\r\n",
    "import os\r\n",
    "os.environ['CUDA_VISIBLE_DEVICES'] = '1'\r\n",
    "import tensorflow as tf\r\n",
    "gpus = tf.config.experimental.list_physical_devices('XLA_GPU')\r\n",
    "print(gpus)"
   ]
  },
  {
   "cell_type": "code",
   "execution_count": 40,
   "metadata": {},
   "outputs": [],
   "source": [
    "# Path to pre-partitioned data\n",
    "SPLITS = os.path.abspath('splits_20test_5inner.pkl')\n",
    "FEATURES = 32\n",
    "FOLDS = 5"
   ]
  },
  {
   "cell_type": "code",
   "execution_count": 66,
   "metadata": {},
   "outputs": [],
   "source": [
    "import pickle\n",
    "import numpy as np\n",
    "import pandas as pd\n",
    "from sklearn.pipeline import Pipeline\n",
    "from sklearn.impute import SimpleImputer\n",
    "from sklearn.preprocessing import StandardScaler, OneHotEncoder\n",
    "from tensorflow_probability import layers as tfplayers\n",
    "%matplotlib inline\n",
    "import matplotlib.pyplot as plt\n",
    "import seaborn as sns"
   ]
  },
  {
   "source": [
    "# Subject random effects"
   ],
   "cell_type": "markdown",
   "metadata": {}
  },
  {
   "cell_type": "code",
   "execution_count": 59,
   "metadata": {},
   "outputs": [],
   "source": [
    "# Load partitioned data \n",
    "with open(SPLITS, 'rb') as f:\n",
    "    dictSplits = pickle.load(f)\n",
    "\n",
    "def cross_validate(model_fn, design_matrix=True , plot=False):\n",
    "    # Train and evaluate a model for each cross-validation fold. Use subject IDs to specify random effects.\n",
    "    # args:\n",
    "    #   model_fn:   function that generations a keras model (see cell below)\n",
    "    #   design_matrix: set to False if training a fixed effects model that requires no design matrix\n",
    "    #   plot:       whether to plot random effects distributions\n",
    "    arrAUROC = np.zeros((FOLDS,))\n",
    "    for iFold in range(FOLDS):\n",
    "        # train and validate a model across K-Folds\n",
    "        dfDataTrain, dfLabelsTrain = dictSplits['train' + str(iFold)]\n",
    "        dfDataVal, dfLabelsVal = dictSplits['val' + str(iFold)]\n",
    "            \n",
    "        # Do some preprocessing: scale to 0M1V, impute missing values\n",
    "        preproc = Pipeline([('scaler', StandardScaler()), ('imputer', SimpleImputer())])\n",
    "        arrXTrain = preproc.fit_transform(dfDataTrain.astype(float))\n",
    "        arrXVal = preproc.transform(dfDataVal.astype(float))\n",
    "        arrYTrain = dfLabelsTrain.values.astype(np.float32)\n",
    "        arrYVal = dfLabelsVal.values.astype(np.float32)\n",
    "\n",
    "        if design_matrix:\n",
    "            # Create the design matrix by one-hot encoding the subject labels\n",
    "            onehot = OneHotEncoder(drop=None, sparse=False)\n",
    "            arrSubjectIDs = np.array(dfDataTrain.index.get_level_values(0))\n",
    "            arrDesignTrain = onehot.fit_transform(arrSubjectIDs.reshape(-1, 1))\n",
    "\n",
    "            # Create dummy design matrix for validation data\n",
    "            arrDesignVal = np.zeros((arrXVal.shape[0], arrDesignTrain.shape[1]))\n",
    "            lsInputsTrain = [arrXTrain, arrDesignTrain]\n",
    "            lsInputsVal = [arrXVal, arrDesignVal]\n",
    "            model = model_fn(arrDesignTrain.shape[1])\n",
    "\n",
    "        else:\n",
    "            lsInputsTrain = [arrXTrain]\n",
    "            lsInputsVal = [arrXVal]\n",
    "            model = model_fn()\n",
    "        model.fit(lsInputsTrain, arrYTrain,\n",
    "                validation_data=(lsInputsVal, arrYVal),\n",
    "                batch_size=32,\n",
    "                verbose=0,\n",
    "                callbacks=[tf.keras.callbacks.EarlyStopping('val_auroc', mode='max', patience=5, restore_best_weights=True)],\n",
    "                epochs=100)\n",
    "        arrAUROC[iFold] = model.evaluate(lsInputsVal, arrYVal)[1]\n",
    "        if design_matrix & plot:\n",
    "            # plot some weights\n",
    "            fig, ax = plt.subplots(1, len(model.get_layer('RE').weights))\n",
    "            for i, weight in enumerate(model.get_layer('RE').weights):\n",
    "                ax[i].hist(weight.numpy())\n",
    "                ax[i].set_xlabel(weight.name)\n",
    "            plt.show()\n",
    "        del model\n",
    "\n",
    "    return arrAUROC\n",
    "\n"
   ]
  },
  {
   "source": [
    "Best conventional FFNN architecture found through BOHB search. Will use this as the base of the mixed effects models.\n",
    "\n",
    "{'activation': 'PReLU', 'batchnorm': True, 'beta_1': 0.6146637876282537, 'beta_2': 0.846172775380551, 'dense0_neurons': 25, 'dropout': 0.6421860570110056, 'hiddenlayers': 1, 'l1': 0.10859218537688095, 'l2': 0.1891172826155999, 'lr': 0.0018299565815205255, 'taper': 0.3426952764589145}"
   ],
   "cell_type": "markdown",
   "metadata": {}
  },
  {
   "cell_type": "code",
   "execution_count": 93,
   "metadata": {},
   "outputs": [],
   "source": [
    "# Functions for generating various models\n",
    "def create_fixed_model():\n",
    "    # Create conventional model based on the architecture above\n",
    "    inputX = tf.keras.layers.Input((FEATURES, ), name='X')\n",
    "    reg = tf.keras.regularizers.L1L2(l1=0.109, l2=0.189)   \n",
    "    h = tf.keras.layers.Dense(25, kernel_regularizer=reg)(inputX)\n",
    "    h = tf.keras.layers.PReLU()(h)\n",
    "    h = tf.keras.layers.BatchNormalization()(h)\n",
    "    h = tf.keras.layers.Dropout(0.642)(h)\n",
    "    fe = tf.keras.layers.Dense(1, activation='linear', name='FE')(h)\n",
    "\n",
    "    output = tf.keras.layers.Activation('sigmoid')(fe)\n",
    "\n",
    "    model = tf.keras.models.Model([inputX], output)\n",
    "    opt = tf.keras.optimizers.Nadam(learning_rate=0.001)\n",
    "\n",
    "    model.compile(loss='binary_crossentropy',\n",
    "                optimizer=opt,\n",
    "                metrics=[tf.keras.metrics.AUC(curve='ROC', name='auroc')])\n",
    "\n",
    "    return model\n",
    "\n",
    "def create_random_intercept_model(nRandomGroups):\n",
    "    # This model takes a design matrix as an additional input, which goes into a probabilistic dense layer\n",
    "    # This layer's output is added to the fixed effects output, functioning as an intercept\n",
    "    inputX = tf.keras.layers.Input((FEATURES, ), name='X')\n",
    "    reg = tf.keras.regularizers.L1L2(l1=0.109, l2=0.189)   \n",
    "    h = tf.keras.layers.Dense(25, kernel_regularizer=reg)(inputX)\n",
    "    h = tf.keras.layers.PReLU()(h)\n",
    "    h = tf.keras.layers.BatchNormalization()(h)\n",
    "    h = tf.keras.layers.Dropout(0.642)(h)\n",
    "    fe = tf.keras.layers.Dense(1, activation='linear', name='FE')(h)\n",
    "\n",
    "    inputZ = tf.keras.layers.Input((nRandomGroups, ), name='Z')\n",
    "    # Use a single probabilistic dense layer, trained using Flipout Monte Carlo estimator\n",
    "    re = tfplayers.DenseFlipout(1, activation='linear', name='RE')(inputZ) # Use default multivariate normal prior\n",
    "\n",
    "    # Add fixed and random effects together\n",
    "    mix = tf.keras.layers.Add()([fe, re])\n",
    "    output = tf.keras.layers.Activation('sigmoid')(mix)\n",
    "\n",
    "    model = tf.keras.models.Model([inputX, inputZ], output)\n",
    "    opt = tf.keras.optimizers.Nadam(learning_rate=0.001)\n",
    "\n",
    "    # Loss function is sum of binary_crossentropy and KL divergence of the probabilistic layer\n",
    "    # However, Keras should automatically add in the KL divergence\n",
    "    model.compile(loss='binary_crossentropy',\n",
    "                optimizer=opt,\n",
    "                metrics=[tf.keras.metrics.AUC(curve='ROC', name='auroc')])\n",
    "\n",
    "    return model\n",
    "\n",
    "def create_random_slope_model(nRandomGroups):\n",
    "    # Here, the design matrix is concatenated with the fixed effect output, then fed into the probabilistic dense layer\n",
    "    # Consequently, the random effect is a function of both the design matrix and the fixed effect (i.e. a slope)\n",
    "    inputX = tf.keras.layers.Input((FEATURES, ), name='X')\n",
    "    reg = tf.keras.regularizers.L1L2(l1=0.109, l2=0.189)   \n",
    "    h = tf.keras.layers.Dense(25, kernel_regularizer=reg)(inputX)\n",
    "    h = tf.keras.layers.PReLU()(h)\n",
    "    h = tf.keras.layers.BatchNormalization()(h)\n",
    "    h = tf.keras.layers.Dropout(0.642)(h)\n",
    "    fe = tf.keras.layers.Dense(1, activation='linear', name='FE')(h)\n",
    "\n",
    "    inputZ = tf.keras.layers.Input((nRandomGroups, ), name='Z')\n",
    "    # Use probabilistic dense layers for intercept and slope, trained using Flipout Monte Carlo estimator\n",
    "    concat = tf.keras.layers.Concatenate()([fe, inputZ])\n",
    "    re = tfplayers.DenseFlipout(1, activation='linear', name='RE')(concat)\n",
    "    # Could also try feeding in the fixed effects hidden layer into this slope layer\n",
    "\n",
    "    # Add fixed and random effects together\n",
    "    mix = tf.keras.layers.Add()([fe, re])\n",
    "    output = tf.keras.layers.Activation('sigmoid')(mix)\n",
    "\n",
    "    model = tf.keras.models.Model([inputX, inputZ], output)\n",
    "    opt = tf.keras.optimizers.Nadam(learning_rate=0.001)\n",
    "\n",
    "    # Loss function is sum of binary_crossentropy and KL divergence of the probabilistic layer\n",
    "    # However, Keras should automatically add in the KL divergence\n",
    "    model.compile(loss='binary_crossentropy',\n",
    "                optimizer=opt,\n",
    "                metrics=[tf.keras.metrics.AUC(curve='ROC', name='auroc')])\n",
    "\n",
    "    return model\n",
    "\n",
    "def create_random_slope_intercept_model(nRandomGroups):\n",
    "    # Uses both a random intercept and slope\n",
    "    inputX = tf.keras.layers.Input((FEATURES, ), name='X')\n",
    "    reg = tf.keras.regularizers.L1L2(l1=0.109, l2=0.189)   \n",
    "    h = tf.keras.layers.Dense(25, kernel_regularizer=reg)(inputX)\n",
    "    h = tf.keras.layers.PReLU()(h)\n",
    "    h = tf.keras.layers.BatchNormalization()(h)\n",
    "    h = tf.keras.layers.Dropout(0.642)(h)\n",
    "    fe = tf.keras.layers.Dense(1, activation='linear', name='FE')(h)\n",
    "\n",
    "    inputZ = tf.keras.layers.Input((nRandomGroups, ), name='Z')\n",
    "    # Use probabilistic dense layers for intercept and slope, trained using Flipout Monte Carlo estimator\n",
    "    reInt = tfplayers.DenseFlipout(1, activation='linear', name='RE_intercept')(inputZ) # Use default multivariate normal prior\n",
    "    concat = tf.keras.layers.Concatenate()([fe, inputZ])\n",
    "    reSlope = tfplayers.DenseFlipout(1, activation='linear', name='RE_slope')(concat)\n",
    "\n",
    "    # Add fixed and random effects together\n",
    "    mix = tf.keras.layers.Add()([fe, reInt, reSlope])\n",
    "    output = tf.keras.layers.Activation('sigmoid')(mix)\n",
    "\n",
    "    model = tf.keras.models.Model([inputX, inputZ], output)\n",
    "    opt = tf.keras.optimizers.Nadam(learning_rate=0.001)\n",
    "\n",
    "    # Loss function is sum of binary_crossentropy and KL divergence of the probabilistic layer\n",
    "    # However, Keras should automatically add in the KL divergence\n",
    "    model.compile(loss='binary_crossentropy',\n",
    "                optimizer=opt,\n",
    "                metrics=[tf.keras.metrics.AUC(curve='ROC', name='auroc')])\n",
    "\n",
    "    return model"
   ]
  },
  {
   "cell_type": "code",
   "execution_count": 50,
   "metadata": {},
   "outputs": [
    {
     "output_type": "stream",
     "name": "stdout",
     "text": [
      "6/6 [==============================] - 0s 1ms/step - loss: 0.7282 - auroc: 0.9040\n",
      "6/6 [==============================] - 0s 1ms/step - loss: 0.6557 - auroc: 0.8581\n",
      "6/6 [==============================] - 0s 1ms/step - loss: 0.9298 - auroc: 0.7345\n",
      "6/6 [==============================] - 0s 948us/step - loss: 1.5290 - auroc: 0.8198\n",
      "6/6 [==============================] - 0s 1ms/step - loss: 1.3546 - auroc: 0.7373\n",
      "0.8107338666915893\n"
     ]
    }
   ],
   "source": [
    "arrAUROCFixed = cross_validate(create_fixed_model, design_matrix=False)\n",
    "print(arrAUROCFixed.mean())"
   ]
  },
  {
   "cell_type": "code",
   "execution_count": 60,
   "metadata": {},
   "outputs": [
    {
     "output_type": "stream",
     "name": "stdout",
     "text": [
      "6/6 [==============================] - 0s 1ms/step - loss: 490.1324 - auroc: 0.9151\n",
      "6/6 [==============================] - 0s 1ms/step - loss: 447.8636 - auroc: 0.8501\n",
      "6/6 [==============================] - 0s 1ms/step - loss: 458.7371 - auroc: 0.7685\n",
      "6/6 [==============================] - 0s 1ms/step - loss: 472.4978 - auroc: 0.8325\n",
      "6/6 [==============================] - 0s 1ms/step - loss: 446.2049 - auroc: 0.7654\n",
      "0.8263048529624939\n"
     ]
    }
   ],
   "source": [
    "arrAUROCRandomInt = cross_validate(create_random_intercept_model, design_matrix=True)\n",
    "print(arrAUROCRandomInt.mean())"
   ]
  },
  {
   "cell_type": "code",
   "execution_count": 94,
   "metadata": {},
   "outputs": [
    {
     "output_type": "stream",
     "name": "stdout",
     "text": [
      "6/6 [==============================] - 0s 1ms/step - loss: 455.9692 - auroc: 0.9052\n",
      "6/6 [==============================] - 0s 1ms/step - loss: 453.5963 - auroc: 0.8544\n",
      "6/6 [==============================] - 0s 2ms/step - loss: 471.7687 - auroc: 0.7808\n",
      "6/6 [==============================] - 0s 2ms/step - loss: 478.4111 - auroc: 0.7930\n",
      "6/6 [==============================] - 0s 2ms/step - loss: 420.5965 - auroc: 0.7456\n",
      "0.8157896399497986\n"
     ]
    }
   ],
   "source": [
    "arrAUROCRandomSlope = cross_validate(create_random_slope_model, design_matrix=True)\n",
    "print(arrAUROCRandomSlope.mean())"
   ]
  },
  {
   "cell_type": "code",
   "execution_count": 95,
   "metadata": {},
   "outputs": [
    {
     "output_type": "stream",
     "name": "stdout",
     "text": [
      "6/6 [==============================] - 0s 1ms/step - loss: 877.2497 - auroc: 0.9035\n",
      "6/6 [==============================] - 0s 1ms/step - loss: 768.8259 - auroc: 0.8537\n",
      "6/6 [==============================] - 0s 1ms/step - loss: 970.4774 - auroc: 0.7479\n",
      "6/6 [==============================] - 0s 1ms/step - loss: 921.9290 - auroc: 0.8286\n",
      "6/6 [==============================] - 0s 2ms/step - loss: 925.8788 - auroc: 0.7437\n",
      "0.8154944539070129\n"
     ]
    }
   ],
   "source": [
    "arrAUROCRandomSlopeInt = cross_validate(create_random_slope_intercept_model, design_matrix=True)\n",
    "print(arrAUROCRandomSlopeInt.mean())"
   ]
  },
  {
   "cell_type": "code",
   "execution_count": 96,
   "metadata": {},
   "outputs": [
    {
     "output_type": "execute_result",
     "data": {
      "text/plain": [
       "Text(0, 0.5, 'AUROC')"
      ]
     },
     "metadata": {},
     "execution_count": 96
    },
    {
     "output_type": "display_data",
     "data": {
      "text/plain": "<Figure size 504x216 with 1 Axes>",
      "image/svg+xml": "<?xml version=\"1.0\" encoding=\"utf-8\" standalone=\"no\"?>\n<!DOCTYPE svg PUBLIC \"-//W3C//DTD SVG 1.1//EN\"\n  \"http://www.w3.org/Graphics/SVG/1.1/DTD/svg11.dtd\">\n<!-- Created with matplotlib (https://matplotlib.org/) -->\n<svg height=\"205.355938pt\" version=\"1.1\" viewBox=\"0 0 454.30625 205.355938\" width=\"454.30625pt\" xmlns=\"http://www.w3.org/2000/svg\" xmlns:xlink=\"http://www.w3.org/1999/xlink\">\n <metadata>\n  <rdf:RDF xmlns:cc=\"http://creativecommons.org/ns#\" xmlns:dc=\"http://purl.org/dc/elements/1.1/\" xmlns:rdf=\"http://www.w3.org/1999/02/22-rdf-syntax-ns#\">\n   <cc:Work>\n    <dc:type rdf:resource=\"http://purl.org/dc/dcmitype/StillImage\"/>\n    <dc:date>2020-12-29T12:03:50.138301</dc:date>\n    <dc:format>image/svg+xml</dc:format>\n    <dc:creator>\n     <cc:Agent>\n      <dc:title>Matplotlib v3.3.1, https://matplotlib.org/</dc:title>\n     </cc:Agent>\n    </dc:creator>\n   </cc:Work>\n  </rdf:RDF>\n </metadata>\n <defs>\n  <style type=\"text/css\">*{stroke-linecap:butt;stroke-linejoin:round;}</style>\n </defs>\n <g id=\"figure_1\">\n  <g id=\"patch_1\">\n   <path d=\"M 0 205.355938 \nL 454.30625 205.355938 \nL 454.30625 0 \nL 0 0 \nz\n\" style=\"fill:none;\"/>\n  </g>\n  <g id=\"axes_1\">\n   <g id=\"patch_2\">\n    <path d=\"M 56.50625 170.28 \nL 447.10625 170.28 \nL 447.10625 7.2 \nL 56.50625 7.2 \nz\n\" style=\"fill:#ffffff;\"/>\n   </g>\n   <g id=\"patch_3\">\n    <path clip-path=\"url(#p626a5ba045)\" d=\"M 66.27125 160.583877 \nL 144.39125 160.583877 \nL 144.39125 61.414408 \nL 66.27125 61.414408 \nL 66.27125 160.583877 \nz\n\" style=\"fill:#3274a1;stroke:#3d3d3d;stroke-linejoin:miter;stroke-width:1.5;\"/>\n   </g>\n   <g id=\"patch_4\">\n    <path clip-path=\"url(#p626a5ba045)\" d=\"M 163.92125 135.010747 \nL 242.04125 135.010747 \nL 242.04125 68.00494 \nL 163.92125 68.00494 \nL 163.92125 135.010747 \nz\n\" style=\"fill:#e1812c;stroke:#3d3d3d;stroke-linejoin:miter;stroke-width:1.5;\"/>\n   </g>\n   <g id=\"patch_5\">\n    <path clip-path=\"url(#p626a5ba045)\" d=\"M 261.57125 124.904132 \nL 339.69125 124.904132 \nL 339.69125 64.432473 \nL 261.57125 64.432473 \nL 261.57125 124.904132 \nz\n\" style=\"fill:#3a923a;stroke:#3d3d3d;stroke-linejoin:miter;stroke-width:1.5;\"/>\n   </g>\n   <g id=\"patch_6\">\n    <path clip-path=\"url(#p626a5ba045)\" d=\"M 359.22125 151.876266 \nL 437.34125 151.876266 \nL 437.34125 64.986876 \nL 359.22125 64.986876 \nL 359.22125 151.876266 \nz\n\" style=\"fill:#c03d3e;stroke:#3d3d3d;stroke-linejoin:miter;stroke-width:1.5;\"/>\n   </g>\n   <g id=\"matplotlib.axis_1\">\n    <g id=\"xtick_1\">\n     <g id=\"line2d_1\">\n      <defs>\n       <path d=\"M 0 0 \nL 0 3.5 \n\" id=\"mbe52f1b1cd\" style=\"stroke:#000000;stroke-width:0.8;\"/>\n      </defs>\n      <g>\n       <use style=\"stroke:#000000;stroke-width:0.8;\" x=\"105.33125\" xlink:href=\"#mbe52f1b1cd\" y=\"170.28\"/>\n      </g>\n     </g>\n     <g id=\"text_1\">\n      <!-- Fixed effects -->\n      <g transform=\"translate(73.798438 184.878438)scale(0.1 -0.1)\">\n       <defs>\n        <path d=\"M 9.8125 72.90625 \nL 51.703125 72.90625 \nL 51.703125 64.59375 \nL 19.671875 64.59375 \nL 19.671875 43.109375 \nL 48.578125 43.109375 \nL 48.578125 34.8125 \nL 19.671875 34.8125 \nL 19.671875 0 \nL 9.8125 0 \nz\n\" id=\"DejaVuSans-70\"/>\n        <path d=\"M 9.421875 54.6875 \nL 18.40625 54.6875 \nL 18.40625 0 \nL 9.421875 0 \nz\nM 9.421875 75.984375 \nL 18.40625 75.984375 \nL 18.40625 64.59375 \nL 9.421875 64.59375 \nz\n\" id=\"DejaVuSans-105\"/>\n        <path d=\"M 54.890625 54.6875 \nL 35.109375 28.078125 \nL 55.90625 0 \nL 45.3125 0 \nL 29.390625 21.484375 \nL 13.484375 0 \nL 2.875 0 \nL 24.125 28.609375 \nL 4.6875 54.6875 \nL 15.28125 54.6875 \nL 29.78125 35.203125 \nL 44.28125 54.6875 \nz\n\" id=\"DejaVuSans-120\"/>\n        <path d=\"M 56.203125 29.59375 \nL 56.203125 25.203125 \nL 14.890625 25.203125 \nQ 15.484375 15.921875 20.484375 11.0625 \nQ 25.484375 6.203125 34.421875 6.203125 \nQ 39.59375 6.203125 44.453125 7.46875 \nQ 49.3125 8.734375 54.109375 11.28125 \nL 54.109375 2.78125 \nQ 49.265625 0.734375 44.1875 -0.34375 \nQ 39.109375 -1.421875 33.890625 -1.421875 \nQ 20.796875 -1.421875 13.15625 6.1875 \nQ 5.515625 13.8125 5.515625 26.8125 \nQ 5.515625 40.234375 12.765625 48.109375 \nQ 20.015625 56 32.328125 56 \nQ 43.359375 56 49.78125 48.890625 \nQ 56.203125 41.796875 56.203125 29.59375 \nz\nM 47.21875 32.234375 \nQ 47.125 39.59375 43.09375 43.984375 \nQ 39.0625 48.390625 32.421875 48.390625 \nQ 24.90625 48.390625 20.390625 44.140625 \nQ 15.875 39.890625 15.1875 32.171875 \nz\n\" id=\"DejaVuSans-101\"/>\n        <path d=\"M 45.40625 46.390625 \nL 45.40625 75.984375 \nL 54.390625 75.984375 \nL 54.390625 0 \nL 45.40625 0 \nL 45.40625 8.203125 \nQ 42.578125 3.328125 38.25 0.953125 \nQ 33.9375 -1.421875 27.875 -1.421875 \nQ 17.96875 -1.421875 11.734375 6.484375 \nQ 5.515625 14.40625 5.515625 27.296875 \nQ 5.515625 40.1875 11.734375 48.09375 \nQ 17.96875 56 27.875 56 \nQ 33.9375 56 38.25 53.625 \nQ 42.578125 51.265625 45.40625 46.390625 \nz\nM 14.796875 27.296875 \nQ 14.796875 17.390625 18.875 11.75 \nQ 22.953125 6.109375 30.078125 6.109375 \nQ 37.203125 6.109375 41.296875 11.75 \nQ 45.40625 17.390625 45.40625 27.296875 \nQ 45.40625 37.203125 41.296875 42.84375 \nQ 37.203125 48.484375 30.078125 48.484375 \nQ 22.953125 48.484375 18.875 42.84375 \nQ 14.796875 37.203125 14.796875 27.296875 \nz\n\" id=\"DejaVuSans-100\"/>\n        <path id=\"DejaVuSans-32\"/>\n        <path d=\"M 37.109375 75.984375 \nL 37.109375 68.5 \nL 28.515625 68.5 \nQ 23.6875 68.5 21.796875 66.546875 \nQ 19.921875 64.59375 19.921875 59.515625 \nL 19.921875 54.6875 \nL 34.71875 54.6875 \nL 34.71875 47.703125 \nL 19.921875 47.703125 \nL 19.921875 0 \nL 10.890625 0 \nL 10.890625 47.703125 \nL 2.296875 47.703125 \nL 2.296875 54.6875 \nL 10.890625 54.6875 \nL 10.890625 58.5 \nQ 10.890625 67.625 15.140625 71.796875 \nQ 19.390625 75.984375 28.609375 75.984375 \nz\n\" id=\"DejaVuSans-102\"/>\n        <path d=\"M 48.78125 52.59375 \nL 48.78125 44.1875 \nQ 44.96875 46.296875 41.140625 47.34375 \nQ 37.3125 48.390625 33.40625 48.390625 \nQ 24.65625 48.390625 19.8125 42.84375 \nQ 14.984375 37.3125 14.984375 27.296875 \nQ 14.984375 17.28125 19.8125 11.734375 \nQ 24.65625 6.203125 33.40625 6.203125 \nQ 37.3125 6.203125 41.140625 7.25 \nQ 44.96875 8.296875 48.78125 10.40625 \nL 48.78125 2.09375 \nQ 45.015625 0.34375 40.984375 -0.53125 \nQ 36.96875 -1.421875 32.421875 -1.421875 \nQ 20.0625 -1.421875 12.78125 6.34375 \nQ 5.515625 14.109375 5.515625 27.296875 \nQ 5.515625 40.671875 12.859375 48.328125 \nQ 20.21875 56 33.015625 56 \nQ 37.15625 56 41.109375 55.140625 \nQ 45.0625 54.296875 48.78125 52.59375 \nz\n\" id=\"DejaVuSans-99\"/>\n        <path d=\"M 18.3125 70.21875 \nL 18.3125 54.6875 \nL 36.8125 54.6875 \nL 36.8125 47.703125 \nL 18.3125 47.703125 \nL 18.3125 18.015625 \nQ 18.3125 11.328125 20.140625 9.421875 \nQ 21.96875 7.515625 27.59375 7.515625 \nL 36.8125 7.515625 \nL 36.8125 0 \nL 27.59375 0 \nQ 17.1875 0 13.234375 3.875 \nQ 9.28125 7.765625 9.28125 18.015625 \nL 9.28125 47.703125 \nL 2.6875 47.703125 \nL 2.6875 54.6875 \nL 9.28125 54.6875 \nL 9.28125 70.21875 \nz\n\" id=\"DejaVuSans-116\"/>\n        <path d=\"M 44.28125 53.078125 \nL 44.28125 44.578125 \nQ 40.484375 46.53125 36.375 47.5 \nQ 32.28125 48.484375 27.875 48.484375 \nQ 21.1875 48.484375 17.84375 46.4375 \nQ 14.5 44.390625 14.5 40.28125 \nQ 14.5 37.15625 16.890625 35.375 \nQ 19.28125 33.59375 26.515625 31.984375 \nL 29.59375 31.296875 \nQ 39.15625 29.25 43.1875 25.515625 \nQ 47.21875 21.78125 47.21875 15.09375 \nQ 47.21875 7.46875 41.1875 3.015625 \nQ 35.15625 -1.421875 24.609375 -1.421875 \nQ 20.21875 -1.421875 15.453125 -0.5625 \nQ 10.6875 0.296875 5.421875 2 \nL 5.421875 11.28125 \nQ 10.40625 8.6875 15.234375 7.390625 \nQ 20.0625 6.109375 24.8125 6.109375 \nQ 31.15625 6.109375 34.5625 8.28125 \nQ 37.984375 10.453125 37.984375 14.40625 \nQ 37.984375 18.0625 35.515625 20.015625 \nQ 33.0625 21.96875 24.703125 23.78125 \nL 21.578125 24.515625 \nQ 13.234375 26.265625 9.515625 29.90625 \nQ 5.8125 33.546875 5.8125 39.890625 \nQ 5.8125 47.609375 11.28125 51.796875 \nQ 16.75 56 26.8125 56 \nQ 31.78125 56 36.171875 55.265625 \nQ 40.578125 54.546875 44.28125 53.078125 \nz\n\" id=\"DejaVuSans-115\"/>\n       </defs>\n       <use xlink:href=\"#DejaVuSans-70\"/>\n       <use x=\"50.269531\" xlink:href=\"#DejaVuSans-105\"/>\n       <use x=\"78.052734\" xlink:href=\"#DejaVuSans-120\"/>\n       <use x=\"134.107422\" xlink:href=\"#DejaVuSans-101\"/>\n       <use x=\"195.630859\" xlink:href=\"#DejaVuSans-100\"/>\n       <use x=\"259.107422\" xlink:href=\"#DejaVuSans-32\"/>\n       <use x=\"290.894531\" xlink:href=\"#DejaVuSans-101\"/>\n       <use x=\"352.417969\" xlink:href=\"#DejaVuSans-102\"/>\n       <use x=\"387.623047\" xlink:href=\"#DejaVuSans-102\"/>\n       <use x=\"422.828125\" xlink:href=\"#DejaVuSans-101\"/>\n       <use x=\"484.351562\" xlink:href=\"#DejaVuSans-99\"/>\n       <use x=\"539.332031\" xlink:href=\"#DejaVuSans-116\"/>\n       <use x=\"578.541016\" xlink:href=\"#DejaVuSans-115\"/>\n      </g>\n     </g>\n    </g>\n    <g id=\"xtick_2\">\n     <g id=\"line2d_2\">\n      <g>\n       <use style=\"stroke:#000000;stroke-width:0.8;\" x=\"202.98125\" xlink:href=\"#mbe52f1b1cd\" y=\"170.28\"/>\n      </g>\n     </g>\n     <g id=\"text_2\">\n      <!-- Random intercept -->\n      <g transform=\"translate(158.196094 184.878438)scale(0.1 -0.1)\">\n       <defs>\n        <path d=\"M 44.390625 34.1875 \nQ 47.5625 33.109375 50.5625 29.59375 \nQ 53.5625 26.078125 56.59375 19.921875 \nL 66.609375 0 \nL 56 0 \nL 46.6875 18.703125 \nQ 43.0625 26.03125 39.671875 28.421875 \nQ 36.28125 30.8125 30.421875 30.8125 \nL 19.671875 30.8125 \nL 19.671875 0 \nL 9.8125 0 \nL 9.8125 72.90625 \nL 32.078125 72.90625 \nQ 44.578125 72.90625 50.734375 67.671875 \nQ 56.890625 62.453125 56.890625 51.90625 \nQ 56.890625 45.015625 53.6875 40.46875 \nQ 50.484375 35.9375 44.390625 34.1875 \nz\nM 19.671875 64.796875 \nL 19.671875 38.921875 \nL 32.078125 38.921875 \nQ 39.203125 38.921875 42.84375 42.21875 \nQ 46.484375 45.515625 46.484375 51.90625 \nQ 46.484375 58.296875 42.84375 61.546875 \nQ 39.203125 64.796875 32.078125 64.796875 \nz\n\" id=\"DejaVuSans-82\"/>\n        <path d=\"M 34.28125 27.484375 \nQ 23.390625 27.484375 19.1875 25 \nQ 14.984375 22.515625 14.984375 16.5 \nQ 14.984375 11.71875 18.140625 8.90625 \nQ 21.296875 6.109375 26.703125 6.109375 \nQ 34.1875 6.109375 38.703125 11.40625 \nQ 43.21875 16.703125 43.21875 25.484375 \nL 43.21875 27.484375 \nz\nM 52.203125 31.203125 \nL 52.203125 0 \nL 43.21875 0 \nL 43.21875 8.296875 \nQ 40.140625 3.328125 35.546875 0.953125 \nQ 30.953125 -1.421875 24.3125 -1.421875 \nQ 15.921875 -1.421875 10.953125 3.296875 \nQ 6 8.015625 6 15.921875 \nQ 6 25.140625 12.171875 29.828125 \nQ 18.359375 34.515625 30.609375 34.515625 \nL 43.21875 34.515625 \nL 43.21875 35.40625 \nQ 43.21875 41.609375 39.140625 45 \nQ 35.0625 48.390625 27.6875 48.390625 \nQ 23 48.390625 18.546875 47.265625 \nQ 14.109375 46.140625 10.015625 43.890625 \nL 10.015625 52.203125 \nQ 14.9375 54.109375 19.578125 55.046875 \nQ 24.21875 56 28.609375 56 \nQ 40.484375 56 46.34375 49.84375 \nQ 52.203125 43.703125 52.203125 31.203125 \nz\n\" id=\"DejaVuSans-97\"/>\n        <path d=\"M 54.890625 33.015625 \nL 54.890625 0 \nL 45.90625 0 \nL 45.90625 32.71875 \nQ 45.90625 40.484375 42.875 44.328125 \nQ 39.84375 48.1875 33.796875 48.1875 \nQ 26.515625 48.1875 22.3125 43.546875 \nQ 18.109375 38.921875 18.109375 30.90625 \nL 18.109375 0 \nL 9.078125 0 \nL 9.078125 54.6875 \nL 18.109375 54.6875 \nL 18.109375 46.1875 \nQ 21.34375 51.125 25.703125 53.5625 \nQ 30.078125 56 35.796875 56 \nQ 45.21875 56 50.046875 50.171875 \nQ 54.890625 44.34375 54.890625 33.015625 \nz\n\" id=\"DejaVuSans-110\"/>\n        <path d=\"M 30.609375 48.390625 \nQ 23.390625 48.390625 19.1875 42.75 \nQ 14.984375 37.109375 14.984375 27.296875 \nQ 14.984375 17.484375 19.15625 11.84375 \nQ 23.34375 6.203125 30.609375 6.203125 \nQ 37.796875 6.203125 41.984375 11.859375 \nQ 46.1875 17.53125 46.1875 27.296875 \nQ 46.1875 37.015625 41.984375 42.703125 \nQ 37.796875 48.390625 30.609375 48.390625 \nz\nM 30.609375 56 \nQ 42.328125 56 49.015625 48.375 \nQ 55.71875 40.765625 55.71875 27.296875 \nQ 55.71875 13.875 49.015625 6.21875 \nQ 42.328125 -1.421875 30.609375 -1.421875 \nQ 18.84375 -1.421875 12.171875 6.21875 \nQ 5.515625 13.875 5.515625 27.296875 \nQ 5.515625 40.765625 12.171875 48.375 \nQ 18.84375 56 30.609375 56 \nz\n\" id=\"DejaVuSans-111\"/>\n        <path d=\"M 52 44.1875 \nQ 55.375 50.25 60.0625 53.125 \nQ 64.75 56 71.09375 56 \nQ 79.640625 56 84.28125 50.015625 \nQ 88.921875 44.046875 88.921875 33.015625 \nL 88.921875 0 \nL 79.890625 0 \nL 79.890625 32.71875 \nQ 79.890625 40.578125 77.09375 44.375 \nQ 74.3125 48.1875 68.609375 48.1875 \nQ 61.625 48.1875 57.5625 43.546875 \nQ 53.515625 38.921875 53.515625 30.90625 \nL 53.515625 0 \nL 44.484375 0 \nL 44.484375 32.71875 \nQ 44.484375 40.625 41.703125 44.40625 \nQ 38.921875 48.1875 33.109375 48.1875 \nQ 26.21875 48.1875 22.15625 43.53125 \nQ 18.109375 38.875 18.109375 30.90625 \nL 18.109375 0 \nL 9.078125 0 \nL 9.078125 54.6875 \nL 18.109375 54.6875 \nL 18.109375 46.1875 \nQ 21.1875 51.21875 25.484375 53.609375 \nQ 29.78125 56 35.6875 56 \nQ 41.65625 56 45.828125 52.96875 \nQ 50 49.953125 52 44.1875 \nz\n\" id=\"DejaVuSans-109\"/>\n        <path d=\"M 41.109375 46.296875 \nQ 39.59375 47.171875 37.8125 47.578125 \nQ 36.03125 48 33.890625 48 \nQ 26.265625 48 22.1875 43.046875 \nQ 18.109375 38.09375 18.109375 28.8125 \nL 18.109375 0 \nL 9.078125 0 \nL 9.078125 54.6875 \nL 18.109375 54.6875 \nL 18.109375 46.1875 \nQ 20.953125 51.171875 25.484375 53.578125 \nQ 30.03125 56 36.53125 56 \nQ 37.453125 56 38.578125 55.875 \nQ 39.703125 55.765625 41.0625 55.515625 \nz\n\" id=\"DejaVuSans-114\"/>\n        <path d=\"M 18.109375 8.203125 \nL 18.109375 -20.796875 \nL 9.078125 -20.796875 \nL 9.078125 54.6875 \nL 18.109375 54.6875 \nL 18.109375 46.390625 \nQ 20.953125 51.265625 25.265625 53.625 \nQ 29.59375 56 35.59375 56 \nQ 45.5625 56 51.78125 48.09375 \nQ 58.015625 40.1875 58.015625 27.296875 \nQ 58.015625 14.40625 51.78125 6.484375 \nQ 45.5625 -1.421875 35.59375 -1.421875 \nQ 29.59375 -1.421875 25.265625 0.953125 \nQ 20.953125 3.328125 18.109375 8.203125 \nz\nM 48.6875 27.296875 \nQ 48.6875 37.203125 44.609375 42.84375 \nQ 40.53125 48.484375 33.40625 48.484375 \nQ 26.265625 48.484375 22.1875 42.84375 \nQ 18.109375 37.203125 18.109375 27.296875 \nQ 18.109375 17.390625 22.1875 11.75 \nQ 26.265625 6.109375 33.40625 6.109375 \nQ 40.53125 6.109375 44.609375 11.75 \nQ 48.6875 17.390625 48.6875 27.296875 \nz\n\" id=\"DejaVuSans-112\"/>\n       </defs>\n       <use xlink:href=\"#DejaVuSans-82\"/>\n       <use x=\"67.232422\" xlink:href=\"#DejaVuSans-97\"/>\n       <use x=\"128.511719\" xlink:href=\"#DejaVuSans-110\"/>\n       <use x=\"191.890625\" xlink:href=\"#DejaVuSans-100\"/>\n       <use x=\"255.367188\" xlink:href=\"#DejaVuSans-111\"/>\n       <use x=\"316.548828\" xlink:href=\"#DejaVuSans-109\"/>\n       <use x=\"413.960938\" xlink:href=\"#DejaVuSans-32\"/>\n       <use x=\"445.748047\" xlink:href=\"#DejaVuSans-105\"/>\n       <use x=\"473.53125\" xlink:href=\"#DejaVuSans-110\"/>\n       <use x=\"536.910156\" xlink:href=\"#DejaVuSans-116\"/>\n       <use x=\"576.119141\" xlink:href=\"#DejaVuSans-101\"/>\n       <use x=\"637.642578\" xlink:href=\"#DejaVuSans-114\"/>\n       <use x=\"676.505859\" xlink:href=\"#DejaVuSans-99\"/>\n       <use x=\"731.486328\" xlink:href=\"#DejaVuSans-101\"/>\n       <use x=\"793.009766\" xlink:href=\"#DejaVuSans-112\"/>\n       <use x=\"856.486328\" xlink:href=\"#DejaVuSans-116\"/>\n      </g>\n     </g>\n    </g>\n    <g id=\"xtick_3\">\n     <g id=\"line2d_3\">\n      <g>\n       <use style=\"stroke:#000000;stroke-width:0.8;\" x=\"300.63125\" xlink:href=\"#mbe52f1b1cd\" y=\"170.28\"/>\n      </g>\n     </g>\n     <g id=\"text_3\">\n      <!-- Random slope -->\n      <g transform=\"translate(265.039844 184.878438)scale(0.1 -0.1)\">\n       <defs>\n        <path d=\"M 9.421875 75.984375 \nL 18.40625 75.984375 \nL 18.40625 0 \nL 9.421875 0 \nz\n\" id=\"DejaVuSans-108\"/>\n       </defs>\n       <use xlink:href=\"#DejaVuSans-82\"/>\n       <use x=\"67.232422\" xlink:href=\"#DejaVuSans-97\"/>\n       <use x=\"128.511719\" xlink:href=\"#DejaVuSans-110\"/>\n       <use x=\"191.890625\" xlink:href=\"#DejaVuSans-100\"/>\n       <use x=\"255.367188\" xlink:href=\"#DejaVuSans-111\"/>\n       <use x=\"316.548828\" xlink:href=\"#DejaVuSans-109\"/>\n       <use x=\"413.960938\" xlink:href=\"#DejaVuSans-32\"/>\n       <use x=\"445.748047\" xlink:href=\"#DejaVuSans-115\"/>\n       <use x=\"497.847656\" xlink:href=\"#DejaVuSans-108\"/>\n       <use x=\"525.630859\" xlink:href=\"#DejaVuSans-111\"/>\n       <use x=\"586.8125\" xlink:href=\"#DejaVuSans-112\"/>\n       <use x=\"650.289062\" xlink:href=\"#DejaVuSans-101\"/>\n      </g>\n     </g>\n    </g>\n    <g id=\"xtick_4\">\n     <g id=\"line2d_4\">\n      <g>\n       <use style=\"stroke:#000000;stroke-width:0.8;\" x=\"398.28125\" xlink:href=\"#mbe52f1b1cd\" y=\"170.28\"/>\n      </g>\n     </g>\n     <g id=\"text_4\">\n      <!-- Random slope  -->\n      <g transform=\"translate(361.100781 184.878438)scale(0.1 -0.1)\">\n       <use xlink:href=\"#DejaVuSans-82\"/>\n       <use x=\"67.232422\" xlink:href=\"#DejaVuSans-97\"/>\n       <use x=\"128.511719\" xlink:href=\"#DejaVuSans-110\"/>\n       <use x=\"191.890625\" xlink:href=\"#DejaVuSans-100\"/>\n       <use x=\"255.367188\" xlink:href=\"#DejaVuSans-111\"/>\n       <use x=\"316.548828\" xlink:href=\"#DejaVuSans-109\"/>\n       <use x=\"413.960938\" xlink:href=\"#DejaVuSans-32\"/>\n       <use x=\"445.748047\" xlink:href=\"#DejaVuSans-115\"/>\n       <use x=\"497.847656\" xlink:href=\"#DejaVuSans-108\"/>\n       <use x=\"525.630859\" xlink:href=\"#DejaVuSans-111\"/>\n       <use x=\"586.8125\" xlink:href=\"#DejaVuSans-112\"/>\n       <use x=\"650.289062\" xlink:href=\"#DejaVuSans-101\"/>\n       <use x=\"711.8125\" xlink:href=\"#DejaVuSans-32\"/>\n      </g>\n      <!-- and intercept -->\n      <g transform=\"translate(364.7875 196.07625)scale(0.1 -0.1)\">\n       <use xlink:href=\"#DejaVuSans-97\"/>\n       <use x=\"61.279297\" xlink:href=\"#DejaVuSans-110\"/>\n       <use x=\"124.658203\" xlink:href=\"#DejaVuSans-100\"/>\n       <use x=\"188.134766\" xlink:href=\"#DejaVuSans-32\"/>\n       <use x=\"219.921875\" xlink:href=\"#DejaVuSans-105\"/>\n       <use x=\"247.705078\" xlink:href=\"#DejaVuSans-110\"/>\n       <use x=\"311.083984\" xlink:href=\"#DejaVuSans-116\"/>\n       <use x=\"350.292969\" xlink:href=\"#DejaVuSans-101\"/>\n       <use x=\"411.816406\" xlink:href=\"#DejaVuSans-114\"/>\n       <use x=\"450.679688\" xlink:href=\"#DejaVuSans-99\"/>\n       <use x=\"505.660156\" xlink:href=\"#DejaVuSans-101\"/>\n       <use x=\"567.183594\" xlink:href=\"#DejaVuSans-112\"/>\n       <use x=\"630.660156\" xlink:href=\"#DejaVuSans-116\"/>\n      </g>\n     </g>\n    </g>\n   </g>\n   <g id=\"matplotlib.axis_2\">\n    <g id=\"ytick_1\">\n     <g id=\"line2d_5\">\n      <defs>\n       <path d=\"M 0 0 \nL -3.5 0 \n\" id=\"me1d3dd2924\" style=\"stroke:#000000;stroke-width:0.8;\"/>\n      </defs>\n      <g>\n       <use style=\"stroke:#000000;stroke-width:0.8;\" x=\"56.50625\" xlink:href=\"#me1d3dd2924\" y=\"150.170767\"/>\n      </g>\n     </g>\n     <g id=\"text_5\">\n      <!-- 0.750 -->\n      <g transform=\"translate(20.878125 153.969986)scale(0.1 -0.1)\">\n       <defs>\n        <path d=\"M 31.78125 66.40625 \nQ 24.171875 66.40625 20.328125 58.90625 \nQ 16.5 51.421875 16.5 36.375 \nQ 16.5 21.390625 20.328125 13.890625 \nQ 24.171875 6.390625 31.78125 6.390625 \nQ 39.453125 6.390625 43.28125 13.890625 \nQ 47.125 21.390625 47.125 36.375 \nQ 47.125 51.421875 43.28125 58.90625 \nQ 39.453125 66.40625 31.78125 66.40625 \nz\nM 31.78125 74.21875 \nQ 44.046875 74.21875 50.515625 64.515625 \nQ 56.984375 54.828125 56.984375 36.375 \nQ 56.984375 17.96875 50.515625 8.265625 \nQ 44.046875 -1.421875 31.78125 -1.421875 \nQ 19.53125 -1.421875 13.0625 8.265625 \nQ 6.59375 17.96875 6.59375 36.375 \nQ 6.59375 54.828125 13.0625 64.515625 \nQ 19.53125 74.21875 31.78125 74.21875 \nz\n\" id=\"DejaVuSans-48\"/>\n        <path d=\"M 10.6875 12.40625 \nL 21 12.40625 \nL 21 0 \nL 10.6875 0 \nz\n\" id=\"DejaVuSans-46\"/>\n        <path d=\"M 8.203125 72.90625 \nL 55.078125 72.90625 \nL 55.078125 68.703125 \nL 28.609375 0 \nL 18.3125 0 \nL 43.21875 64.59375 \nL 8.203125 64.59375 \nz\n\" id=\"DejaVuSans-55\"/>\n        <path d=\"M 10.796875 72.90625 \nL 49.515625 72.90625 \nL 49.515625 64.59375 \nL 19.828125 64.59375 \nL 19.828125 46.734375 \nQ 21.96875 47.46875 24.109375 47.828125 \nQ 26.265625 48.1875 28.421875 48.1875 \nQ 40.625 48.1875 47.75 41.5 \nQ 54.890625 34.8125 54.890625 23.390625 \nQ 54.890625 11.625 47.5625 5.09375 \nQ 40.234375 -1.421875 26.90625 -1.421875 \nQ 22.3125 -1.421875 17.546875 -0.640625 \nQ 12.796875 0.140625 7.71875 1.703125 \nL 7.71875 11.625 \nQ 12.109375 9.234375 16.796875 8.0625 \nQ 21.484375 6.890625 26.703125 6.890625 \nQ 35.15625 6.890625 40.078125 11.328125 \nQ 45.015625 15.765625 45.015625 23.390625 \nQ 45.015625 31 40.078125 35.4375 \nQ 35.15625 39.890625 26.703125 39.890625 \nQ 22.75 39.890625 18.8125 39.015625 \nQ 14.890625 38.140625 10.796875 36.28125 \nz\n\" id=\"DejaVuSans-53\"/>\n       </defs>\n       <use xlink:href=\"#DejaVuSans-48\"/>\n       <use x=\"63.623047\" xlink:href=\"#DejaVuSans-46\"/>\n       <use x=\"95.410156\" xlink:href=\"#DejaVuSans-55\"/>\n       <use x=\"159.033203\" xlink:href=\"#DejaVuSans-53\"/>\n       <use x=\"222.65625\" xlink:href=\"#DejaVuSans-48\"/>\n      </g>\n     </g>\n    </g>\n    <g id=\"ytick_2\">\n     <g id=\"line2d_6\">\n      <g>\n       <use style=\"stroke:#000000;stroke-width:0.8;\" x=\"56.50625\" xlink:href=\"#me1d3dd2924\" y=\"129.641625\"/>\n      </g>\n     </g>\n     <g id=\"text_6\">\n      <!-- 0.775 -->\n      <g transform=\"translate(20.878125 133.440844)scale(0.1 -0.1)\">\n       <use xlink:href=\"#DejaVuSans-48\"/>\n       <use x=\"63.623047\" xlink:href=\"#DejaVuSans-46\"/>\n       <use x=\"95.410156\" xlink:href=\"#DejaVuSans-55\"/>\n       <use x=\"159.033203\" xlink:href=\"#DejaVuSans-55\"/>\n       <use x=\"222.65625\" xlink:href=\"#DejaVuSans-53\"/>\n      </g>\n     </g>\n    </g>\n    <g id=\"ytick_3\">\n     <g id=\"line2d_7\">\n      <g>\n       <use style=\"stroke:#000000;stroke-width:0.8;\" x=\"56.50625\" xlink:href=\"#me1d3dd2924\" y=\"109.112483\"/>\n      </g>\n     </g>\n     <g id=\"text_7\">\n      <!-- 0.800 -->\n      <g transform=\"translate(20.878125 112.911702)scale(0.1 -0.1)\">\n       <defs>\n        <path d=\"M 31.78125 34.625 \nQ 24.75 34.625 20.71875 30.859375 \nQ 16.703125 27.09375 16.703125 20.515625 \nQ 16.703125 13.921875 20.71875 10.15625 \nQ 24.75 6.390625 31.78125 6.390625 \nQ 38.8125 6.390625 42.859375 10.171875 \nQ 46.921875 13.96875 46.921875 20.515625 \nQ 46.921875 27.09375 42.890625 30.859375 \nQ 38.875 34.625 31.78125 34.625 \nz\nM 21.921875 38.8125 \nQ 15.578125 40.375 12.03125 44.71875 \nQ 8.5 49.078125 8.5 55.328125 \nQ 8.5 64.0625 14.71875 69.140625 \nQ 20.953125 74.21875 31.78125 74.21875 \nQ 42.671875 74.21875 48.875 69.140625 \nQ 55.078125 64.0625 55.078125 55.328125 \nQ 55.078125 49.078125 51.53125 44.71875 \nQ 48 40.375 41.703125 38.8125 \nQ 48.828125 37.15625 52.796875 32.3125 \nQ 56.78125 27.484375 56.78125 20.515625 \nQ 56.78125 9.90625 50.3125 4.234375 \nQ 43.84375 -1.421875 31.78125 -1.421875 \nQ 19.734375 -1.421875 13.25 4.234375 \nQ 6.78125 9.90625 6.78125 20.515625 \nQ 6.78125 27.484375 10.78125 32.3125 \nQ 14.796875 37.15625 21.921875 38.8125 \nz\nM 18.3125 54.390625 \nQ 18.3125 48.734375 21.84375 45.5625 \nQ 25.390625 42.390625 31.78125 42.390625 \nQ 38.140625 42.390625 41.71875 45.5625 \nQ 45.3125 48.734375 45.3125 54.390625 \nQ 45.3125 60.0625 41.71875 63.234375 \nQ 38.140625 66.40625 31.78125 66.40625 \nQ 25.390625 66.40625 21.84375 63.234375 \nQ 18.3125 60.0625 18.3125 54.390625 \nz\n\" id=\"DejaVuSans-56\"/>\n       </defs>\n       <use xlink:href=\"#DejaVuSans-48\"/>\n       <use x=\"63.623047\" xlink:href=\"#DejaVuSans-46\"/>\n       <use x=\"95.410156\" xlink:href=\"#DejaVuSans-56\"/>\n       <use x=\"159.033203\" xlink:href=\"#DejaVuSans-48\"/>\n       <use x=\"222.65625\" xlink:href=\"#DejaVuSans-48\"/>\n      </g>\n     </g>\n    </g>\n    <g id=\"ytick_4\">\n     <g id=\"line2d_8\">\n      <g>\n       <use style=\"stroke:#000000;stroke-width:0.8;\" x=\"56.50625\" xlink:href=\"#me1d3dd2924\" y=\"88.583341\"/>\n      </g>\n     </g>\n     <g id=\"text_8\">\n      <!-- 0.825 -->\n      <g transform=\"translate(20.878125 92.38256)scale(0.1 -0.1)\">\n       <defs>\n        <path d=\"M 19.1875 8.296875 \nL 53.609375 8.296875 \nL 53.609375 0 \nL 7.328125 0 \nL 7.328125 8.296875 \nQ 12.9375 14.109375 22.625 23.890625 \nQ 32.328125 33.6875 34.8125 36.53125 \nQ 39.546875 41.84375 41.421875 45.53125 \nQ 43.3125 49.21875 43.3125 52.78125 \nQ 43.3125 58.59375 39.234375 62.25 \nQ 35.15625 65.921875 28.609375 65.921875 \nQ 23.96875 65.921875 18.8125 64.3125 \nQ 13.671875 62.703125 7.8125 59.421875 \nL 7.8125 69.390625 \nQ 13.765625 71.78125 18.9375 73 \nQ 24.125 74.21875 28.421875 74.21875 \nQ 39.75 74.21875 46.484375 68.546875 \nQ 53.21875 62.890625 53.21875 53.421875 \nQ 53.21875 48.921875 51.53125 44.890625 \nQ 49.859375 40.875 45.40625 35.40625 \nQ 44.1875 33.984375 37.640625 27.21875 \nQ 31.109375 20.453125 19.1875 8.296875 \nz\n\" id=\"DejaVuSans-50\"/>\n       </defs>\n       <use xlink:href=\"#DejaVuSans-48\"/>\n       <use x=\"63.623047\" xlink:href=\"#DejaVuSans-46\"/>\n       <use x=\"95.410156\" xlink:href=\"#DejaVuSans-56\"/>\n       <use x=\"159.033203\" xlink:href=\"#DejaVuSans-50\"/>\n       <use x=\"222.65625\" xlink:href=\"#DejaVuSans-53\"/>\n      </g>\n     </g>\n    </g>\n    <g id=\"ytick_5\">\n     <g id=\"line2d_9\">\n      <g>\n       <use style=\"stroke:#000000;stroke-width:0.8;\" x=\"56.50625\" xlink:href=\"#me1d3dd2924\" y=\"68.054199\"/>\n      </g>\n     </g>\n     <g id=\"text_9\">\n      <!-- 0.850 -->\n      <g transform=\"translate(20.878125 71.853418)scale(0.1 -0.1)\">\n       <use xlink:href=\"#DejaVuSans-48\"/>\n       <use x=\"63.623047\" xlink:href=\"#DejaVuSans-46\"/>\n       <use x=\"95.410156\" xlink:href=\"#DejaVuSans-56\"/>\n       <use x=\"159.033203\" xlink:href=\"#DejaVuSans-53\"/>\n       <use x=\"222.65625\" xlink:href=\"#DejaVuSans-48\"/>\n      </g>\n     </g>\n    </g>\n    <g id=\"ytick_6\">\n     <g id=\"line2d_10\">\n      <g>\n       <use style=\"stroke:#000000;stroke-width:0.8;\" x=\"56.50625\" xlink:href=\"#me1d3dd2924\" y=\"47.525057\"/>\n      </g>\n     </g>\n     <g id=\"text_10\">\n      <!-- 0.875 -->\n      <g transform=\"translate(20.878125 51.324275)scale(0.1 -0.1)\">\n       <use xlink:href=\"#DejaVuSans-48\"/>\n       <use x=\"63.623047\" xlink:href=\"#DejaVuSans-46\"/>\n       <use x=\"95.410156\" xlink:href=\"#DejaVuSans-56\"/>\n       <use x=\"159.033203\" xlink:href=\"#DejaVuSans-55\"/>\n       <use x=\"222.65625\" xlink:href=\"#DejaVuSans-53\"/>\n      </g>\n     </g>\n    </g>\n    <g id=\"ytick_7\">\n     <g id=\"line2d_11\">\n      <g>\n       <use style=\"stroke:#000000;stroke-width:0.8;\" x=\"56.50625\" xlink:href=\"#me1d3dd2924\" y=\"26.995915\"/>\n      </g>\n     </g>\n     <g id=\"text_11\">\n      <!-- 0.900 -->\n      <g transform=\"translate(20.878125 30.795133)scale(0.1 -0.1)\">\n       <defs>\n        <path d=\"M 10.984375 1.515625 \nL 10.984375 10.5 \nQ 14.703125 8.734375 18.5 7.8125 \nQ 22.3125 6.890625 25.984375 6.890625 \nQ 35.75 6.890625 40.890625 13.453125 \nQ 46.046875 20.015625 46.78125 33.40625 \nQ 43.953125 29.203125 39.59375 26.953125 \nQ 35.25 24.703125 29.984375 24.703125 \nQ 19.046875 24.703125 12.671875 31.3125 \nQ 6.296875 37.9375 6.296875 49.421875 \nQ 6.296875 60.640625 12.9375 67.421875 \nQ 19.578125 74.21875 30.609375 74.21875 \nQ 43.265625 74.21875 49.921875 64.515625 \nQ 56.59375 54.828125 56.59375 36.375 \nQ 56.59375 19.140625 48.40625 8.859375 \nQ 40.234375 -1.421875 26.421875 -1.421875 \nQ 22.703125 -1.421875 18.890625 -0.6875 \nQ 15.09375 0.046875 10.984375 1.515625 \nz\nM 30.609375 32.421875 \nQ 37.25 32.421875 41.125 36.953125 \nQ 45.015625 41.5 45.015625 49.421875 \nQ 45.015625 57.28125 41.125 61.84375 \nQ 37.25 66.40625 30.609375 66.40625 \nQ 23.96875 66.40625 20.09375 61.84375 \nQ 16.21875 57.28125 16.21875 49.421875 \nQ 16.21875 41.5 20.09375 36.953125 \nQ 23.96875 32.421875 30.609375 32.421875 \nz\n\" id=\"DejaVuSans-57\"/>\n       </defs>\n       <use xlink:href=\"#DejaVuSans-48\"/>\n       <use x=\"63.623047\" xlink:href=\"#DejaVuSans-46\"/>\n       <use x=\"95.410156\" xlink:href=\"#DejaVuSans-57\"/>\n       <use x=\"159.033203\" xlink:href=\"#DejaVuSans-48\"/>\n       <use x=\"222.65625\" xlink:href=\"#DejaVuSans-48\"/>\n      </g>\n     </g>\n    </g>\n    <g id=\"text_12\">\n     <!-- AUROC -->\n     <g transform=\"translate(14.798437 106.72125)rotate(-90)scale(0.1 -0.1)\">\n      <defs>\n       <path d=\"M 34.1875 63.1875 \nL 20.796875 26.90625 \nL 47.609375 26.90625 \nz\nM 28.609375 72.90625 \nL 39.796875 72.90625 \nL 67.578125 0 \nL 57.328125 0 \nL 50.6875 18.703125 \nL 17.828125 18.703125 \nL 11.1875 0 \nL 0.78125 0 \nz\n\" id=\"DejaVuSans-65\"/>\n       <path d=\"M 8.6875 72.90625 \nL 18.609375 72.90625 \nL 18.609375 28.609375 \nQ 18.609375 16.890625 22.84375 11.734375 \nQ 27.09375 6.59375 36.625 6.59375 \nQ 46.09375 6.59375 50.34375 11.734375 \nQ 54.59375 16.890625 54.59375 28.609375 \nL 54.59375 72.90625 \nL 64.5 72.90625 \nL 64.5 27.390625 \nQ 64.5 13.140625 57.4375 5.859375 \nQ 50.390625 -1.421875 36.625 -1.421875 \nQ 22.796875 -1.421875 15.734375 5.859375 \nQ 8.6875 13.140625 8.6875 27.390625 \nz\n\" id=\"DejaVuSans-85\"/>\n       <path d=\"M 39.40625 66.21875 \nQ 28.65625 66.21875 22.328125 58.203125 \nQ 16.015625 50.203125 16.015625 36.375 \nQ 16.015625 22.609375 22.328125 14.59375 \nQ 28.65625 6.59375 39.40625 6.59375 \nQ 50.140625 6.59375 56.421875 14.59375 \nQ 62.703125 22.609375 62.703125 36.375 \nQ 62.703125 50.203125 56.421875 58.203125 \nQ 50.140625 66.21875 39.40625 66.21875 \nz\nM 39.40625 74.21875 \nQ 54.734375 74.21875 63.90625 63.9375 \nQ 73.09375 53.65625 73.09375 36.375 \nQ 73.09375 19.140625 63.90625 8.859375 \nQ 54.734375 -1.421875 39.40625 -1.421875 \nQ 24.03125 -1.421875 14.8125 8.828125 \nQ 5.609375 19.09375 5.609375 36.375 \nQ 5.609375 53.65625 14.8125 63.9375 \nQ 24.03125 74.21875 39.40625 74.21875 \nz\n\" id=\"DejaVuSans-79\"/>\n       <path d=\"M 64.40625 67.28125 \nL 64.40625 56.890625 \nQ 59.421875 61.53125 53.78125 63.8125 \nQ 48.140625 66.109375 41.796875 66.109375 \nQ 29.296875 66.109375 22.65625 58.46875 \nQ 16.015625 50.828125 16.015625 36.375 \nQ 16.015625 21.96875 22.65625 14.328125 \nQ 29.296875 6.6875 41.796875 6.6875 \nQ 48.140625 6.6875 53.78125 8.984375 \nQ 59.421875 11.28125 64.40625 15.921875 \nL 64.40625 5.609375 \nQ 59.234375 2.09375 53.4375 0.328125 \nQ 47.65625 -1.421875 41.21875 -1.421875 \nQ 24.65625 -1.421875 15.125 8.703125 \nQ 5.609375 18.84375 5.609375 36.375 \nQ 5.609375 53.953125 15.125 64.078125 \nQ 24.65625 74.21875 41.21875 74.21875 \nQ 47.75 74.21875 53.53125 72.484375 \nQ 59.328125 70.75 64.40625 67.28125 \nz\n\" id=\"DejaVuSans-67\"/>\n      </defs>\n      <use xlink:href=\"#DejaVuSans-65\"/>\n      <use x=\"68.408203\" xlink:href=\"#DejaVuSans-85\"/>\n      <use x=\"141.601562\" xlink:href=\"#DejaVuSans-82\"/>\n      <use x=\"211.083984\" xlink:href=\"#DejaVuSans-79\"/>\n      <use x=\"289.794922\" xlink:href=\"#DejaVuSans-67\"/>\n     </g>\n    </g>\n   </g>\n   <g id=\"line2d_12\">\n    <path clip-path=\"url(#p626a5ba045)\" d=\"M 105.33125 160.583877 \nL 105.33125 162.867273 \n\" style=\"fill:none;stroke:#3d3d3d;stroke-linecap:square;stroke-width:1.5;\"/>\n   </g>\n   <g id=\"line2d_13\">\n    <path clip-path=\"url(#p626a5ba045)\" d=\"M 105.33125 61.414408 \nL 105.33125 23.743765 \n\" style=\"fill:none;stroke:#3d3d3d;stroke-linecap:square;stroke-width:1.5;\"/>\n   </g>\n   <g id=\"line2d_14\">\n    <path clip-path=\"url(#p626a5ba045)\" d=\"M 85.80125 162.867273 \nL 124.86125 162.867273 \n\" style=\"fill:none;stroke:#3d3d3d;stroke-linecap:square;stroke-width:1.5;\"/>\n   </g>\n   <g id=\"line2d_15\">\n    <path clip-path=\"url(#p626a5ba045)\" d=\"M 85.80125 23.743765 \nL 124.86125 23.743765 \n\" style=\"fill:none;stroke:#3d3d3d;stroke-linecap:square;stroke-width:1.5;\"/>\n   </g>\n   <g id=\"line2d_16\"/>\n   <g id=\"line2d_17\">\n    <path clip-path=\"url(#p626a5ba045)\" d=\"M 202.98125 135.010747 \nL 202.98125 137.506173 \n\" style=\"fill:none;stroke:#3d3d3d;stroke-linecap:square;stroke-width:1.5;\"/>\n   </g>\n   <g id=\"line2d_18\">\n    <path clip-path=\"url(#p626a5ba045)\" d=\"M 202.98125 68.00494 \nL 202.98125 14.612727 \n\" style=\"fill:none;stroke:#3d3d3d;stroke-linecap:square;stroke-width:1.5;\"/>\n   </g>\n   <g id=\"line2d_19\">\n    <path clip-path=\"url(#p626a5ba045)\" d=\"M 183.45125 137.506173 \nL 222.51125 137.506173 \n\" style=\"fill:none;stroke:#3d3d3d;stroke-linecap:square;stroke-width:1.5;\"/>\n   </g>\n   <g id=\"line2d_20\">\n    <path clip-path=\"url(#p626a5ba045)\" d=\"M 183.45125 14.612727 \nL 222.51125 14.612727 \n\" style=\"fill:none;stroke:#3d3d3d;stroke-linecap:square;stroke-width:1.5;\"/>\n   </g>\n   <g id=\"line2d_21\"/>\n   <g id=\"line2d_22\">\n    <path clip-path=\"url(#p626a5ba045)\" d=\"M 300.63125 124.904132 \nL 300.63125 153.766875 \n\" style=\"fill:none;stroke:#3d3d3d;stroke-linecap:square;stroke-width:1.5;\"/>\n   </g>\n   <g id=\"line2d_23\">\n    <path clip-path=\"url(#p626a5ba045)\" d=\"M 300.63125 64.432473 \nL 300.63125 22.743078 \n\" style=\"fill:none;stroke:#3d3d3d;stroke-linecap:square;stroke-width:1.5;\"/>\n   </g>\n   <g id=\"line2d_24\">\n    <path clip-path=\"url(#p626a5ba045)\" d=\"M 281.10125 153.766875 \nL 320.16125 153.766875 \n\" style=\"fill:none;stroke:#3d3d3d;stroke-linecap:square;stroke-width:1.5;\"/>\n   </g>\n   <g id=\"line2d_25\">\n    <path clip-path=\"url(#p626a5ba045)\" d=\"M 281.10125 22.743078 \nL 320.16125 22.743078 \n\" style=\"fill:none;stroke:#3d3d3d;stroke-linecap:square;stroke-width:1.5;\"/>\n   </g>\n   <g id=\"line2d_26\"/>\n   <g id=\"line2d_27\">\n    <path clip-path=\"url(#p626a5ba045)\" d=\"M 398.28125 151.876266 \nL 398.28125 155.330383 \n\" style=\"fill:none;stroke:#3d3d3d;stroke-linecap:square;stroke-width:1.5;\"/>\n   </g>\n   <g id=\"line2d_28\">\n    <path clip-path=\"url(#p626a5ba045)\" d=\"M 398.28125 64.986876 \nL 398.28125 24.119028 \n\" style=\"fill:none;stroke:#3d3d3d;stroke-linecap:square;stroke-width:1.5;\"/>\n   </g>\n   <g id=\"line2d_29\">\n    <path clip-path=\"url(#p626a5ba045)\" d=\"M 378.75125 155.330383 \nL 417.81125 155.330383 \n\" style=\"fill:none;stroke:#3d3d3d;stroke-linecap:square;stroke-width:1.5;\"/>\n   </g>\n   <g id=\"line2d_30\">\n    <path clip-path=\"url(#p626a5ba045)\" d=\"M 378.75125 24.119028 \nL 417.81125 24.119028 \n\" style=\"fill:none;stroke:#3d3d3d;stroke-linecap:square;stroke-width:1.5;\"/>\n   </g>\n   <g id=\"line2d_31\"/>\n   <g id=\"line2d_32\">\n    <path clip-path=\"url(#p626a5ba045)\" d=\"M 66.27125 92.881677 \nL 144.39125 92.881677 \n\" style=\"fill:none;stroke:#3d3d3d;stroke-linecap:square;stroke-width:1.5;\"/>\n   </g>\n   <g id=\"line2d_33\">\n    <path clip-path=\"url(#p626a5ba045)\" d=\"M 163.92125 82.424614 \nL 242.04125 82.424614 \n\" style=\"fill:none;stroke:#3d3d3d;stroke-linecap:square;stroke-width:1.5;\"/>\n   </g>\n   <g id=\"line2d_34\">\n    <path clip-path=\"url(#p626a5ba045)\" d=\"M 261.57125 114.886304 \nL 339.69125 114.886304 \n\" style=\"fill:none;stroke:#3d3d3d;stroke-linecap:square;stroke-width:1.5;\"/>\n   </g>\n   <g id=\"line2d_35\">\n    <path clip-path=\"url(#p626a5ba045)\" d=\"M 359.22125 85.632292 \nL 437.34125 85.632292 \n\" style=\"fill:none;stroke:#3d3d3d;stroke-linecap:square;stroke-width:1.5;\"/>\n   </g>\n   <g id=\"patch_7\">\n    <path d=\"M 56.50625 170.28 \nL 56.50625 7.2 \n\" style=\"fill:none;stroke:#000000;stroke-linecap:square;stroke-linejoin:miter;stroke-width:0.8;\"/>\n   </g>\n   <g id=\"patch_8\">\n    <path d=\"M 447.10625 170.28 \nL 447.10625 7.2 \n\" style=\"fill:none;stroke:#000000;stroke-linecap:square;stroke-linejoin:miter;stroke-width:0.8;\"/>\n   </g>\n   <g id=\"patch_9\">\n    <path d=\"M 56.50625 170.28 \nL 447.10625 170.28 \n\" style=\"fill:none;stroke:#000000;stroke-linecap:square;stroke-linejoin:miter;stroke-width:0.8;\"/>\n   </g>\n   <g id=\"patch_10\">\n    <path d=\"M 56.50625 7.2 \nL 447.10625 7.2 \n\" style=\"fill:none;stroke:#000000;stroke-linecap:square;stroke-linejoin:miter;stroke-width:0.8;\"/>\n   </g>\n  </g>\n </g>\n <defs>\n  <clipPath id=\"p626a5ba045\">\n   <rect height=\"163.08\" width=\"390.6\" x=\"56.50625\" y=\"7.2\"/>\n  </clipPath>\n </defs>\n</svg>\n",
      "image/png": "[encoded data removed]"
     },
     "metadata": {
      "needs_background": "light"
     }
    }
   ],
   "source": [
    "df = pd.DataFrame(np.vstack([arrAUROCFixed, arrAUROCRandomInt, arrAUROCRandomSlope, arrAUROCRandomSlopeInt]),\r\n",
    "                    index=['Fixed effects', 'Random intercept', 'Random slope', 'Random slope \\nand intercept'])\r\n",
    "# dfLong = pd.melt(df.T, value_name='AUROC', var_name='Model') \r\n",
    "fig, ax = plt.subplots(figsize=(7, 3))                 \r\n",
    "sns.boxplot(data=df.T, ax=ax)\r\n",
    "ax.set_ylabel('AUROC')\r\n"
   ]
  },
  {
   "cell_type": "code",
   "execution_count": 89,
   "metadata": {},
   "outputs": [
    {
     "output_type": "stream",
     "name": "stdout",
     "text": [
      "Random intercept t = -2.120, p = 0.101\nRandom slope t = 0.281, p = 0.792\nRandom slope \nand intercept t = 0.082, p = 0.938\n"
     ]
    }
   ],
   "source": [
    "# Perform some paired t-tests between each model and the baseline fixed effects model\n",
    "import scipy.stats\n",
    "for strModel in df.index[1:]:\n",
    "    t, p = scipy.stats.ttest_rel(df.loc['Fixed effects'], df.loc[strModel])\n",
    "    print(strModel, f't = {t:.03f}, p = {p:.03f}')"
   ]
  },
  {
   "source": [
    "# Site random effects"
   ],
   "cell_type": "markdown",
   "metadata": {}
  },
  {
   "cell_type": "code",
   "execution_count": 110,
   "metadata": {},
   "outputs": [],
   "source": [
    "def cross_validate_siteeffect(model_fn, design_matrix=True , plot=False):\n",
    "    # Train and evaluate a model for each cross-validation fold. Use site IDs to specify random effects.\n",
    "    # args:\n",
    "    #   model_fn:   function that generations a keras model (see cell below)\n",
    "    #   design_matrix: set to False if training a fixed effects model that requires no design matrix\n",
    "    #   plot:       whether to plot random effects distributions\n",
    "    arrAUROC = np.zeros((FOLDS,))\n",
    "    for iFold in range(FOLDS):\n",
    "        # train and validate a model across K-Folds\n",
    "        dfDataTrain, dfLabelsTrain = dictSplits['train' + str(iFold)]\n",
    "        dfDataVal, dfLabelsVal = dictSplits['val' + str(iFold)]\n",
    "            \n",
    "        # Do some preprocessing: scale to 0M1V, impute missing values\n",
    "        preproc = Pipeline([('scaler', StandardScaler()), ('imputer', SimpleImputer())])\n",
    "        arrXTrain = preproc.fit_transform(dfDataTrain.astype(float))\n",
    "        arrXVal = preproc.transform(dfDataVal.astype(float))\n",
    "        arrYTrain = dfLabelsTrain.values.astype(np.float32)\n",
    "        arrYVal = dfLabelsVal.values.astype(np.float32)\n",
    "\n",
    "        if design_matrix:\n",
    "            # Each subject's site is indicated by the first 3 digits of their ID, e.g. <site number>_S_<subject id>\n",
    "            arrSiteTrain = np.array([x.split('_')[0] for x in dfDataTrain.index.get_level_values(0)])\n",
    "            arrSiteVal = np.array([x.split('_')[0] for x in dfDataVal.index.get_level_values(0)])\n",
    "\n",
    "            # Create the design matrix by one-hot encoding the site labels\n",
    "            onehot = OneHotEncoder(drop=None, sparse=False)\n",
    "            arrDesignTrain = onehot.fit_transform(arrSiteTrain.reshape(-1, 1))\n",
    "            # arrDesignVal = onehot.transform(arrSiteVal.reshape(-1, 1))\n",
    "            arrDesignVal = np.zeros((arrXVal.shape[0], arrDesignTrain.shape[1]))\n",
    "\n",
    "            lsInputsTrain = [arrXTrain, arrDesignTrain]\n",
    "            lsInputsVal = [arrXVal, arrDesignVal]\n",
    "            model = model_fn(arrDesignTrain.shape[1])\n",
    "\n",
    "        else:\n",
    "            lsInputsTrain = [arrXTrain]\n",
    "            lsInputsVal = [arrXVal]\n",
    "            model = model_fn()\n",
    "        model.fit(lsInputsTrain, arrYTrain,\n",
    "                validation_data=(lsInputsVal, arrYVal),\n",
    "                batch_size=32,\n",
    "                verbose=0,\n",
    "                callbacks=[tf.keras.callbacks.EarlyStopping('val_auroc', mode='max', patience=5, restore_best_weights=True)],\n",
    "                epochs=100)\n",
    "        arrAUROC[iFold] = model.evaluate(lsInputsVal, arrYVal)[1]\n",
    "        if design_matrix & plot:\n",
    "            # plot some weights\n",
    "            fig, ax = plt.subplots(1, len(model.get_layer('RE').weights))\n",
    "            for i, weight in enumerate(model.get_layer('RE').weights):\n",
    "                ax[i].hist(weight.numpy())\n",
    "                ax[i].set_xlabel(weight.name)\n",
    "            plt.show()\n",
    "        del model\n",
    "\n",
    "    return arrAUROC\n",
    "\n"
   ]
  },
  {
   "cell_type": "code",
   "execution_count": 111,
   "metadata": {},
   "outputs": [
    {
     "output_type": "stream",
     "name": "stdout",
     "text": [
      "6/6 [==============================] - 0s 1ms/step - loss: 112.4592 - auroc: 0.9316\n",
      "6/6 [==============================] - 0s 1ms/step - loss: 116.6846 - auroc: 0.8515\n",
      "6/6 [==============================] - 0s 1ms/step - loss: 113.1215 - auroc: 0.7763\n",
      "6/6 [==============================] - 0s 1ms/step - loss: 115.2127 - auroc: 0.8463\n",
      "6/6 [==============================] - 0s 1ms/step - loss: 124.5729 - auroc: 0.7436\n",
      "0.8298428535461426\n"
     ]
    }
   ],
   "source": [
    "arrAUROCSiteInt = cross_validate_siteeffect(create_random_intercept_model, design_matrix=True)\n",
    "print(arrAUROCSiteInt.mean())"
   ]
  },
  {
   "cell_type": "code",
   "execution_count": 112,
   "metadata": {},
   "outputs": [
    {
     "output_type": "stream",
     "name": "stdout",
     "text": [
      "6/6 [==============================] - 0s 1ms/step - loss: 119.6415 - auroc: 0.9128\n",
      "6/6 [==============================] - 0s 1ms/step - loss: 114.5401 - auroc: 0.8516\n",
      "6/6 [==============================] - 0s 1ms/step - loss: 122.4647 - auroc: 0.7410\n",
      "6/6 [==============================] - 0s 1ms/step - loss: 113.7889 - auroc: 0.8355\n",
      "6/6 [==============================] - 0s 1ms/step - loss: 123.8782 - auroc: 0.7053\n",
      "0.8092310547828674\n"
     ]
    }
   ],
   "source": [
    "arrAUROCSiteSlope = cross_validate_siteeffect(create_random_slope_model, design_matrix=True)\n",
    "print(arrAUROCSiteSlope.mean())"
   ]
  },
  {
   "cell_type": "code",
   "execution_count": 113,
   "metadata": {},
   "outputs": [
    {
     "output_type": "stream",
     "name": "stdout",
     "text": [
      "6/6 [==============================] - 0s 984us/step - loss: 227.3385 - auroc: 0.9137\n",
      "6/6 [==============================] - 0s 2ms/step - loss: 259.9878 - auroc: 0.8224\n",
      "6/6 [==============================] - 0s 2ms/step - loss: 214.1647 - auroc: 0.7705\n",
      "6/6 [==============================] - 0s 1ms/step - loss: 251.6375 - auroc: 0.8525\n",
      "6/6 [==============================] - 0s 1ms/step - loss: 254.4102 - auroc: 0.7271\n",
      "0.8172486543655395\n"
     ]
    }
   ],
   "source": [
    "arrAUROCSiteSlopeInt = cross_validate_siteeffect(create_random_slope_intercept_model, design_matrix=True)\n",
    "print(arrAUROCSiteSlopeInt.mean())"
   ]
  },
  {
   "cell_type": "code",
   "execution_count": 114,
   "metadata": {},
   "outputs": [
    {
     "output_type": "execute_result",
     "data": {
      "text/plain": [
       "Text(0, 0.5, 'AUROC')"
      ]
     },
     "metadata": {},
     "execution_count": 114
    },
    {
     "output_type": "display_data",
     "data": {
      "text/plain": "<Figure size 504x216 with 1 Axes>",
      "image/svg+xml": "<?xml version=\"1.0\" encoding=\"utf-8\" standalone=\"no\"?>\n<!DOCTYPE svg PUBLIC \"-//W3C//DTD SVG 1.1//EN\"\n  \"http://www.w3.org/Graphics/SVG/1.1/DTD/svg11.dtd\">\n<!-- Created with matplotlib (https://matplotlib.org/) -->\n<svg height=\"205.355938pt\" version=\"1.1\" viewBox=\"0 0 447.94375 205.355938\" width=\"447.94375pt\" xmlns=\"http://www.w3.org/2000/svg\" xmlns:xlink=\"http://www.w3.org/1999/xlink\">\n <metadata>\n  <rdf:RDF xmlns:cc=\"http://creativecommons.org/ns#\" xmlns:dc=\"http://purl.org/dc/elements/1.1/\" xmlns:rdf=\"http://www.w3.org/1999/02/22-rdf-syntax-ns#\">\n   <cc:Work>\n    <dc:type rdf:resource=\"http://purl.org/dc/dcmitype/StillImage\"/>\n    <dc:date>2020-12-29T12:23:52.698147</dc:date>\n    <dc:format>image/svg+xml</dc:format>\n    <dc:creator>\n     <cc:Agent>\n      <dc:title>Matplotlib v3.3.1, https://matplotlib.org/</dc:title>\n     </cc:Agent>\n    </dc:creator>\n   </cc:Work>\n  </rdf:RDF>\n </metadata>\n <defs>\n  <style type=\"text/css\">*{stroke-linecap:butt;stroke-linejoin:round;}</style>\n </defs>\n <g id=\"figure_1\">\n  <g id=\"patch_1\">\n   <path d=\"M 0 205.355938 \nL 447.94375 205.355938 \nL 447.94375 0 \nL 0 0 \nz\n\" style=\"fill:none;\"/>\n  </g>\n  <g id=\"axes_1\">\n   <g id=\"patch_2\">\n    <path d=\"M 50.14375 170.28 \nL 440.74375 170.28 \nL 440.74375 7.2 \nL 50.14375 7.2 \nz\n\" style=\"fill:#ffffff;\"/>\n   </g>\n   <g id=\"patch_3\">\n    <path clip-path=\"url(#p2d0caf8739)\" d=\"M 59.90875 141.909056 \nL 138.02875 141.909056 \nL 138.02875 62.783399 \nL 59.90875 62.783399 \nL 59.90875 141.909056 \nz\n\" style=\"fill:#3274a1;stroke:#3d3d3d;stroke-linejoin:miter;stroke-width:1.5;\"/>\n   </g>\n   <g id=\"patch_4\">\n    <path clip-path=\"url(#p2d0caf8739)\" d=\"M 157.55875 116.363953 \nL 235.67875 116.363953 \nL 235.67875 67.108126 \nL 157.55875 67.108126 \nL 157.55875 116.363953 \nz\n\" style=\"fill:#e1812c;stroke:#3d3d3d;stroke-linejoin:miter;stroke-width:1.5;\"/>\n   </g>\n   <g id=\"patch_5\">\n    <path clip-path=\"url(#p2d0caf8739)\" d=\"M 255.20875 139.497361 \nL 333.32875 139.497361 \nL 333.32875 67.058998 \nL 255.20875 67.058998 \nL 255.20875 139.497361 \nz\n\" style=\"fill:#3a923a;stroke:#3d3d3d;stroke-linejoin:miter;stroke-width:1.5;\"/>\n   </g>\n   <g id=\"patch_6\">\n    <path clip-path=\"url(#p2d0caf8739)\" d=\"M 352.85875 120.143935 \nL 430.97875 120.143935 \nL 430.97875 66.443177 \nL 352.85875 66.443177 \nL 352.85875 120.143935 \nz\n\" style=\"fill:#c03d3e;stroke:#3d3d3d;stroke-linejoin:miter;stroke-width:1.5;\"/>\n   </g>\n   <g id=\"matplotlib.axis_1\">\n    <g id=\"xtick_1\">\n     <g id=\"line2d_1\">\n      <defs>\n       <path d=\"M 0 0 \nL 0 3.5 \n\" id=\"m6431fef179\" style=\"stroke:#000000;stroke-width:0.8;\"/>\n      </defs>\n      <g>\n       <use style=\"stroke:#000000;stroke-width:0.8;\" x=\"98.96875\" xlink:href=\"#m6431fef179\" y=\"170.28\"/>\n      </g>\n     </g>\n     <g id=\"text_1\">\n      <!-- Fixed effects -->\n      <g transform=\"translate(67.435937 184.878438)scale(0.1 -0.1)\">\n       <defs>\n        <path d=\"M 9.8125 72.90625 \nL 51.703125 72.90625 \nL 51.703125 64.59375 \nL 19.671875 64.59375 \nL 19.671875 43.109375 \nL 48.578125 43.109375 \nL 48.578125 34.8125 \nL 19.671875 34.8125 \nL 19.671875 0 \nL 9.8125 0 \nz\n\" id=\"DejaVuSans-70\"/>\n        <path d=\"M 9.421875 54.6875 \nL 18.40625 54.6875 \nL 18.40625 0 \nL 9.421875 0 \nz\nM 9.421875 75.984375 \nL 18.40625 75.984375 \nL 18.40625 64.59375 \nL 9.421875 64.59375 \nz\n\" id=\"DejaVuSans-105\"/>\n        <path d=\"M 54.890625 54.6875 \nL 35.109375 28.078125 \nL 55.90625 0 \nL 45.3125 0 \nL 29.390625 21.484375 \nL 13.484375 0 \nL 2.875 0 \nL 24.125 28.609375 \nL 4.6875 54.6875 \nL 15.28125 54.6875 \nL 29.78125 35.203125 \nL 44.28125 54.6875 \nz\n\" id=\"DejaVuSans-120\"/>\n        <path d=\"M 56.203125 29.59375 \nL 56.203125 25.203125 \nL 14.890625 25.203125 \nQ 15.484375 15.921875 20.484375 11.0625 \nQ 25.484375 6.203125 34.421875 6.203125 \nQ 39.59375 6.203125 44.453125 7.46875 \nQ 49.3125 8.734375 54.109375 11.28125 \nL 54.109375 2.78125 \nQ 49.265625 0.734375 44.1875 -0.34375 \nQ 39.109375 -1.421875 33.890625 -1.421875 \nQ 20.796875 -1.421875 13.15625 6.1875 \nQ 5.515625 13.8125 5.515625 26.8125 \nQ 5.515625 40.234375 12.765625 48.109375 \nQ 20.015625 56 32.328125 56 \nQ 43.359375 56 49.78125 48.890625 \nQ 56.203125 41.796875 56.203125 29.59375 \nz\nM 47.21875 32.234375 \nQ 47.125 39.59375 43.09375 43.984375 \nQ 39.0625 48.390625 32.421875 48.390625 \nQ 24.90625 48.390625 20.390625 44.140625 \nQ 15.875 39.890625 15.1875 32.171875 \nz\n\" id=\"DejaVuSans-101\"/>\n        <path d=\"M 45.40625 46.390625 \nL 45.40625 75.984375 \nL 54.390625 75.984375 \nL 54.390625 0 \nL 45.40625 0 \nL 45.40625 8.203125 \nQ 42.578125 3.328125 38.25 0.953125 \nQ 33.9375 -1.421875 27.875 -1.421875 \nQ 17.96875 -1.421875 11.734375 6.484375 \nQ 5.515625 14.40625 5.515625 27.296875 \nQ 5.515625 40.1875 11.734375 48.09375 \nQ 17.96875 56 27.875 56 \nQ 33.9375 56 38.25 53.625 \nQ 42.578125 51.265625 45.40625 46.390625 \nz\nM 14.796875 27.296875 \nQ 14.796875 17.390625 18.875 11.75 \nQ 22.953125 6.109375 30.078125 6.109375 \nQ 37.203125 6.109375 41.296875 11.75 \nQ 45.40625 17.390625 45.40625 27.296875 \nQ 45.40625 37.203125 41.296875 42.84375 \nQ 37.203125 48.484375 30.078125 48.484375 \nQ 22.953125 48.484375 18.875 42.84375 \nQ 14.796875 37.203125 14.796875 27.296875 \nz\n\" id=\"DejaVuSans-100\"/>\n        <path id=\"DejaVuSans-32\"/>\n        <path d=\"M 37.109375 75.984375 \nL 37.109375 68.5 \nL 28.515625 68.5 \nQ 23.6875 68.5 21.796875 66.546875 \nQ 19.921875 64.59375 19.921875 59.515625 \nL 19.921875 54.6875 \nL 34.71875 54.6875 \nL 34.71875 47.703125 \nL 19.921875 47.703125 \nL 19.921875 0 \nL 10.890625 0 \nL 10.890625 47.703125 \nL 2.296875 47.703125 \nL 2.296875 54.6875 \nL 10.890625 54.6875 \nL 10.890625 58.5 \nQ 10.890625 67.625 15.140625 71.796875 \nQ 19.390625 75.984375 28.609375 75.984375 \nz\n\" id=\"DejaVuSans-102\"/>\n        <path d=\"M 48.78125 52.59375 \nL 48.78125 44.1875 \nQ 44.96875 46.296875 41.140625 47.34375 \nQ 37.3125 48.390625 33.40625 48.390625 \nQ 24.65625 48.390625 19.8125 42.84375 \nQ 14.984375 37.3125 14.984375 27.296875 \nQ 14.984375 17.28125 19.8125 11.734375 \nQ 24.65625 6.203125 33.40625 6.203125 \nQ 37.3125 6.203125 41.140625 7.25 \nQ 44.96875 8.296875 48.78125 10.40625 \nL 48.78125 2.09375 \nQ 45.015625 0.34375 40.984375 -0.53125 \nQ 36.96875 -1.421875 32.421875 -1.421875 \nQ 20.0625 -1.421875 12.78125 6.34375 \nQ 5.515625 14.109375 5.515625 27.296875 \nQ 5.515625 40.671875 12.859375 48.328125 \nQ 20.21875 56 33.015625 56 \nQ 37.15625 56 41.109375 55.140625 \nQ 45.0625 54.296875 48.78125 52.59375 \nz\n\" id=\"DejaVuSans-99\"/>\n        <path d=\"M 18.3125 70.21875 \nL 18.3125 54.6875 \nL 36.8125 54.6875 \nL 36.8125 47.703125 \nL 18.3125 47.703125 \nL 18.3125 18.015625 \nQ 18.3125 11.328125 20.140625 9.421875 \nQ 21.96875 7.515625 27.59375 7.515625 \nL 36.8125 7.515625 \nL 36.8125 0 \nL 27.59375 0 \nQ 17.1875 0 13.234375 3.875 \nQ 9.28125 7.765625 9.28125 18.015625 \nL 9.28125 47.703125 \nL 2.6875 47.703125 \nL 2.6875 54.6875 \nL 9.28125 54.6875 \nL 9.28125 70.21875 \nz\n\" id=\"DejaVuSans-116\"/>\n        <path d=\"M 44.28125 53.078125 \nL 44.28125 44.578125 \nQ 40.484375 46.53125 36.375 47.5 \nQ 32.28125 48.484375 27.875 48.484375 \nQ 21.1875 48.484375 17.84375 46.4375 \nQ 14.5 44.390625 14.5 40.28125 \nQ 14.5 37.15625 16.890625 35.375 \nQ 19.28125 33.59375 26.515625 31.984375 \nL 29.59375 31.296875 \nQ 39.15625 29.25 43.1875 25.515625 \nQ 47.21875 21.78125 47.21875 15.09375 \nQ 47.21875 7.46875 41.1875 3.015625 \nQ 35.15625 -1.421875 24.609375 -1.421875 \nQ 20.21875 -1.421875 15.453125 -0.5625 \nQ 10.6875 0.296875 5.421875 2 \nL 5.421875 11.28125 \nQ 10.40625 8.6875 15.234375 7.390625 \nQ 20.0625 6.109375 24.8125 6.109375 \nQ 31.15625 6.109375 34.5625 8.28125 \nQ 37.984375 10.453125 37.984375 14.40625 \nQ 37.984375 18.0625 35.515625 20.015625 \nQ 33.0625 21.96875 24.703125 23.78125 \nL 21.578125 24.515625 \nQ 13.234375 26.265625 9.515625 29.90625 \nQ 5.8125 33.546875 5.8125 39.890625 \nQ 5.8125 47.609375 11.28125 51.796875 \nQ 16.75 56 26.8125 56 \nQ 31.78125 56 36.171875 55.265625 \nQ 40.578125 54.546875 44.28125 53.078125 \nz\n\" id=\"DejaVuSans-115\"/>\n       </defs>\n       <use xlink:href=\"#DejaVuSans-70\"/>\n       <use x=\"50.269531\" xlink:href=\"#DejaVuSans-105\"/>\n       <use x=\"78.052734\" xlink:href=\"#DejaVuSans-120\"/>\n       <use x=\"134.107422\" xlink:href=\"#DejaVuSans-101\"/>\n       <use x=\"195.630859\" xlink:href=\"#DejaVuSans-100\"/>\n       <use x=\"259.107422\" xlink:href=\"#DejaVuSans-32\"/>\n       <use x=\"290.894531\" xlink:href=\"#DejaVuSans-101\"/>\n       <use x=\"352.417969\" xlink:href=\"#DejaVuSans-102\"/>\n       <use x=\"387.623047\" xlink:href=\"#DejaVuSans-102\"/>\n       <use x=\"422.828125\" xlink:href=\"#DejaVuSans-101\"/>\n       <use x=\"484.351562\" xlink:href=\"#DejaVuSans-99\"/>\n       <use x=\"539.332031\" xlink:href=\"#DejaVuSans-116\"/>\n       <use x=\"578.541016\" xlink:href=\"#DejaVuSans-115\"/>\n      </g>\n     </g>\n    </g>\n    <g id=\"xtick_2\">\n     <g id=\"line2d_2\">\n      <g>\n       <use style=\"stroke:#000000;stroke-width:0.8;\" x=\"196.61875\" xlink:href=\"#m6431fef179\" y=\"170.28\"/>\n      </g>\n     </g>\n     <g id=\"text_2\">\n      <!-- Random intercept -->\n      <g transform=\"translate(151.833594 184.878438)scale(0.1 -0.1)\">\n       <defs>\n        <path d=\"M 44.390625 34.1875 \nQ 47.5625 33.109375 50.5625 29.59375 \nQ 53.5625 26.078125 56.59375 19.921875 \nL 66.609375 0 \nL 56 0 \nL 46.6875 18.703125 \nQ 43.0625 26.03125 39.671875 28.421875 \nQ 36.28125 30.8125 30.421875 30.8125 \nL 19.671875 30.8125 \nL 19.671875 0 \nL 9.8125 0 \nL 9.8125 72.90625 \nL 32.078125 72.90625 \nQ 44.578125 72.90625 50.734375 67.671875 \nQ 56.890625 62.453125 56.890625 51.90625 \nQ 56.890625 45.015625 53.6875 40.46875 \nQ 50.484375 35.9375 44.390625 34.1875 \nz\nM 19.671875 64.796875 \nL 19.671875 38.921875 \nL 32.078125 38.921875 \nQ 39.203125 38.921875 42.84375 42.21875 \nQ 46.484375 45.515625 46.484375 51.90625 \nQ 46.484375 58.296875 42.84375 61.546875 \nQ 39.203125 64.796875 32.078125 64.796875 \nz\n\" id=\"DejaVuSans-82\"/>\n        <path d=\"M 34.28125 27.484375 \nQ 23.390625 27.484375 19.1875 25 \nQ 14.984375 22.515625 14.984375 16.5 \nQ 14.984375 11.71875 18.140625 8.90625 \nQ 21.296875 6.109375 26.703125 6.109375 \nQ 34.1875 6.109375 38.703125 11.40625 \nQ 43.21875 16.703125 43.21875 25.484375 \nL 43.21875 27.484375 \nz\nM 52.203125 31.203125 \nL 52.203125 0 \nL 43.21875 0 \nL 43.21875 8.296875 \nQ 40.140625 3.328125 35.546875 0.953125 \nQ 30.953125 -1.421875 24.3125 -1.421875 \nQ 15.921875 -1.421875 10.953125 3.296875 \nQ 6 8.015625 6 15.921875 \nQ 6 25.140625 12.171875 29.828125 \nQ 18.359375 34.515625 30.609375 34.515625 \nL 43.21875 34.515625 \nL 43.21875 35.40625 \nQ 43.21875 41.609375 39.140625 45 \nQ 35.0625 48.390625 27.6875 48.390625 \nQ 23 48.390625 18.546875 47.265625 \nQ 14.109375 46.140625 10.015625 43.890625 \nL 10.015625 52.203125 \nQ 14.9375 54.109375 19.578125 55.046875 \nQ 24.21875 56 28.609375 56 \nQ 40.484375 56 46.34375 49.84375 \nQ 52.203125 43.703125 52.203125 31.203125 \nz\n\" id=\"DejaVuSans-97\"/>\n        <path d=\"M 54.890625 33.015625 \nL 54.890625 0 \nL 45.90625 0 \nL 45.90625 32.71875 \nQ 45.90625 40.484375 42.875 44.328125 \nQ 39.84375 48.1875 33.796875 48.1875 \nQ 26.515625 48.1875 22.3125 43.546875 \nQ 18.109375 38.921875 18.109375 30.90625 \nL 18.109375 0 \nL 9.078125 0 \nL 9.078125 54.6875 \nL 18.109375 54.6875 \nL 18.109375 46.1875 \nQ 21.34375 51.125 25.703125 53.5625 \nQ 30.078125 56 35.796875 56 \nQ 45.21875 56 50.046875 50.171875 \nQ 54.890625 44.34375 54.890625 33.015625 \nz\n\" id=\"DejaVuSans-110\"/>\n        <path d=\"M 30.609375 48.390625 \nQ 23.390625 48.390625 19.1875 42.75 \nQ 14.984375 37.109375 14.984375 27.296875 \nQ 14.984375 17.484375 19.15625 11.84375 \nQ 23.34375 6.203125 30.609375 6.203125 \nQ 37.796875 6.203125 41.984375 11.859375 \nQ 46.1875 17.53125 46.1875 27.296875 \nQ 46.1875 37.015625 41.984375 42.703125 \nQ 37.796875 48.390625 30.609375 48.390625 \nz\nM 30.609375 56 \nQ 42.328125 56 49.015625 48.375 \nQ 55.71875 40.765625 55.71875 27.296875 \nQ 55.71875 13.875 49.015625 6.21875 \nQ 42.328125 -1.421875 30.609375 -1.421875 \nQ 18.84375 -1.421875 12.171875 6.21875 \nQ 5.515625 13.875 5.515625 27.296875 \nQ 5.515625 40.765625 12.171875 48.375 \nQ 18.84375 56 30.609375 56 \nz\n\" id=\"DejaVuSans-111\"/>\n        <path d=\"M 52 44.1875 \nQ 55.375 50.25 60.0625 53.125 \nQ 64.75 56 71.09375 56 \nQ 79.640625 56 84.28125 50.015625 \nQ 88.921875 44.046875 88.921875 33.015625 \nL 88.921875 0 \nL 79.890625 0 \nL 79.890625 32.71875 \nQ 79.890625 40.578125 77.09375 44.375 \nQ 74.3125 48.1875 68.609375 48.1875 \nQ 61.625 48.1875 57.5625 43.546875 \nQ 53.515625 38.921875 53.515625 30.90625 \nL 53.515625 0 \nL 44.484375 0 \nL 44.484375 32.71875 \nQ 44.484375 40.625 41.703125 44.40625 \nQ 38.921875 48.1875 33.109375 48.1875 \nQ 26.21875 48.1875 22.15625 43.53125 \nQ 18.109375 38.875 18.109375 30.90625 \nL 18.109375 0 \nL 9.078125 0 \nL 9.078125 54.6875 \nL 18.109375 54.6875 \nL 18.109375 46.1875 \nQ 21.1875 51.21875 25.484375 53.609375 \nQ 29.78125 56 35.6875 56 \nQ 41.65625 56 45.828125 52.96875 \nQ 50 49.953125 52 44.1875 \nz\n\" id=\"DejaVuSans-109\"/>\n        <path d=\"M 41.109375 46.296875 \nQ 39.59375 47.171875 37.8125 47.578125 \nQ 36.03125 48 33.890625 48 \nQ 26.265625 48 22.1875 43.046875 \nQ 18.109375 38.09375 18.109375 28.8125 \nL 18.109375 0 \nL 9.078125 0 \nL 9.078125 54.6875 \nL 18.109375 54.6875 \nL 18.109375 46.1875 \nQ 20.953125 51.171875 25.484375 53.578125 \nQ 30.03125 56 36.53125 56 \nQ 37.453125 56 38.578125 55.875 \nQ 39.703125 55.765625 41.0625 55.515625 \nz\n\" id=\"DejaVuSans-114\"/>\n        <path d=\"M 18.109375 8.203125 \nL 18.109375 -20.796875 \nL 9.078125 -20.796875 \nL 9.078125 54.6875 \nL 18.109375 54.6875 \nL 18.109375 46.390625 \nQ 20.953125 51.265625 25.265625 53.625 \nQ 29.59375 56 35.59375 56 \nQ 45.5625 56 51.78125 48.09375 \nQ 58.015625 40.1875 58.015625 27.296875 \nQ 58.015625 14.40625 51.78125 6.484375 \nQ 45.5625 -1.421875 35.59375 -1.421875 \nQ 29.59375 -1.421875 25.265625 0.953125 \nQ 20.953125 3.328125 18.109375 8.203125 \nz\nM 48.6875 27.296875 \nQ 48.6875 37.203125 44.609375 42.84375 \nQ 40.53125 48.484375 33.40625 48.484375 \nQ 26.265625 48.484375 22.1875 42.84375 \nQ 18.109375 37.203125 18.109375 27.296875 \nQ 18.109375 17.390625 22.1875 11.75 \nQ 26.265625 6.109375 33.40625 6.109375 \nQ 40.53125 6.109375 44.609375 11.75 \nQ 48.6875 17.390625 48.6875 27.296875 \nz\n\" id=\"DejaVuSans-112\"/>\n       </defs>\n       <use xlink:href=\"#DejaVuSans-82\"/>\n       <use x=\"67.232422\" xlink:href=\"#DejaVuSans-97\"/>\n       <use x=\"128.511719\" xlink:href=\"#DejaVuSans-110\"/>\n       <use x=\"191.890625\" xlink:href=\"#DejaVuSans-100\"/>\n       <use x=\"255.367188\" xlink:href=\"#DejaVuSans-111\"/>\n       <use x=\"316.548828\" xlink:href=\"#DejaVuSans-109\"/>\n       <use x=\"413.960938\" xlink:href=\"#DejaVuSans-32\"/>\n       <use x=\"445.748047\" xlink:href=\"#DejaVuSans-105\"/>\n       <use x=\"473.53125\" xlink:href=\"#DejaVuSans-110\"/>\n       <use x=\"536.910156\" xlink:href=\"#DejaVuSans-116\"/>\n       <use x=\"576.119141\" xlink:href=\"#DejaVuSans-101\"/>\n       <use x=\"637.642578\" xlink:href=\"#DejaVuSans-114\"/>\n       <use x=\"676.505859\" xlink:href=\"#DejaVuSans-99\"/>\n       <use x=\"731.486328\" xlink:href=\"#DejaVuSans-101\"/>\n       <use x=\"793.009766\" xlink:href=\"#DejaVuSans-112\"/>\n       <use x=\"856.486328\" xlink:href=\"#DejaVuSans-116\"/>\n      </g>\n     </g>\n    </g>\n    <g id=\"xtick_3\">\n     <g id=\"line2d_3\">\n      <g>\n       <use style=\"stroke:#000000;stroke-width:0.8;\" x=\"294.26875\" xlink:href=\"#m6431fef179\" y=\"170.28\"/>\n      </g>\n     </g>\n     <g id=\"text_3\">\n      <!-- Random slope -->\n      <g transform=\"translate(258.677344 184.878438)scale(0.1 -0.1)\">\n       <defs>\n        <path d=\"M 9.421875 75.984375 \nL 18.40625 75.984375 \nL 18.40625 0 \nL 9.421875 0 \nz\n\" id=\"DejaVuSans-108\"/>\n       </defs>\n       <use xlink:href=\"#DejaVuSans-82\"/>\n       <use x=\"67.232422\" xlink:href=\"#DejaVuSans-97\"/>\n       <use x=\"128.511719\" xlink:href=\"#DejaVuSans-110\"/>\n       <use x=\"191.890625\" xlink:href=\"#DejaVuSans-100\"/>\n       <use x=\"255.367188\" xlink:href=\"#DejaVuSans-111\"/>\n       <use x=\"316.548828\" xlink:href=\"#DejaVuSans-109\"/>\n       <use x=\"413.960938\" xlink:href=\"#DejaVuSans-32\"/>\n       <use x=\"445.748047\" xlink:href=\"#DejaVuSans-115\"/>\n       <use x=\"497.847656\" xlink:href=\"#DejaVuSans-108\"/>\n       <use x=\"525.630859\" xlink:href=\"#DejaVuSans-111\"/>\n       <use x=\"586.8125\" xlink:href=\"#DejaVuSans-112\"/>\n       <use x=\"650.289062\" xlink:href=\"#DejaVuSans-101\"/>\n      </g>\n     </g>\n    </g>\n    <g id=\"xtick_4\">\n     <g id=\"line2d_4\">\n      <g>\n       <use style=\"stroke:#000000;stroke-width:0.8;\" x=\"391.91875\" xlink:href=\"#m6431fef179\" y=\"170.28\"/>\n      </g>\n     </g>\n     <g id=\"text_4\">\n      <!-- Random slope  -->\n      <g transform=\"translate(354.738281 184.878438)scale(0.1 -0.1)\">\n       <use xlink:href=\"#DejaVuSans-82\"/>\n       <use x=\"67.232422\" xlink:href=\"#DejaVuSans-97\"/>\n       <use x=\"128.511719\" xlink:href=\"#DejaVuSans-110\"/>\n       <use x=\"191.890625\" xlink:href=\"#DejaVuSans-100\"/>\n       <use x=\"255.367188\" xlink:href=\"#DejaVuSans-111\"/>\n       <use x=\"316.548828\" xlink:href=\"#DejaVuSans-109\"/>\n       <use x=\"413.960938\" xlink:href=\"#DejaVuSans-32\"/>\n       <use x=\"445.748047\" xlink:href=\"#DejaVuSans-115\"/>\n       <use x=\"497.847656\" xlink:href=\"#DejaVuSans-108\"/>\n       <use x=\"525.630859\" xlink:href=\"#DejaVuSans-111\"/>\n       <use x=\"586.8125\" xlink:href=\"#DejaVuSans-112\"/>\n       <use x=\"650.289062\" xlink:href=\"#DejaVuSans-101\"/>\n       <use x=\"711.8125\" xlink:href=\"#DejaVuSans-32\"/>\n      </g>\n      <!-- and intercept -->\n      <g transform=\"translate(358.425 196.07625)scale(0.1 -0.1)\">\n       <use xlink:href=\"#DejaVuSans-97\"/>\n       <use x=\"61.279297\" xlink:href=\"#DejaVuSans-110\"/>\n       <use x=\"124.658203\" xlink:href=\"#DejaVuSans-100\"/>\n       <use x=\"188.134766\" xlink:href=\"#DejaVuSans-32\"/>\n       <use x=\"219.921875\" xlink:href=\"#DejaVuSans-105\"/>\n       <use x=\"247.705078\" xlink:href=\"#DejaVuSans-110\"/>\n       <use x=\"311.083984\" xlink:href=\"#DejaVuSans-116\"/>\n       <use x=\"350.292969\" xlink:href=\"#DejaVuSans-101\"/>\n       <use x=\"411.816406\" xlink:href=\"#DejaVuSans-114\"/>\n       <use x=\"450.679688\" xlink:href=\"#DejaVuSans-99\"/>\n       <use x=\"505.660156\" xlink:href=\"#DejaVuSans-101\"/>\n       <use x=\"567.183594\" xlink:href=\"#DejaVuSans-112\"/>\n       <use x=\"630.660156\" xlink:href=\"#DejaVuSans-116\"/>\n      </g>\n     </g>\n    </g>\n   </g>\n   <g id=\"matplotlib.axis_2\">\n    <g id=\"ytick_1\">\n     <g id=\"line2d_5\">\n      <defs>\n       <path d=\"M 0 0 \nL -3.5 0 \n\" id=\"m762e0670c6\" style=\"stroke:#000000;stroke-width:0.8;\"/>\n      </defs>\n      <g>\n       <use style=\"stroke:#000000;stroke-width:0.8;\" x=\"50.14375\" xlink:href=\"#m762e0670c6\" y=\"166.360327\"/>\n      </g>\n     </g>\n     <g id=\"text_5\">\n      <!-- 0.70 -->\n      <g transform=\"translate(20.878125 170.159546)scale(0.1 -0.1)\">\n       <defs>\n        <path d=\"M 31.78125 66.40625 \nQ 24.171875 66.40625 20.328125 58.90625 \nQ 16.5 51.421875 16.5 36.375 \nQ 16.5 21.390625 20.328125 13.890625 \nQ 24.171875 6.390625 31.78125 6.390625 \nQ 39.453125 6.390625 43.28125 13.890625 \nQ 47.125 21.390625 47.125 36.375 \nQ 47.125 51.421875 43.28125 58.90625 \nQ 39.453125 66.40625 31.78125 66.40625 \nz\nM 31.78125 74.21875 \nQ 44.046875 74.21875 50.515625 64.515625 \nQ 56.984375 54.828125 56.984375 36.375 \nQ 56.984375 17.96875 50.515625 8.265625 \nQ 44.046875 -1.421875 31.78125 -1.421875 \nQ 19.53125 -1.421875 13.0625 8.265625 \nQ 6.59375 17.96875 6.59375 36.375 \nQ 6.59375 54.828125 13.0625 64.515625 \nQ 19.53125 74.21875 31.78125 74.21875 \nz\n\" id=\"DejaVuSans-48\"/>\n        <path d=\"M 10.6875 12.40625 \nL 21 12.40625 \nL 21 0 \nL 10.6875 0 \nz\n\" id=\"DejaVuSans-46\"/>\n        <path d=\"M 8.203125 72.90625 \nL 55.078125 72.90625 \nL 55.078125 68.703125 \nL 28.609375 0 \nL 18.3125 0 \nL 43.21875 64.59375 \nL 8.203125 64.59375 \nz\n\" id=\"DejaVuSans-55\"/>\n       </defs>\n       <use xlink:href=\"#DejaVuSans-48\"/>\n       <use x=\"63.623047\" xlink:href=\"#DejaVuSans-46\"/>\n       <use x=\"95.410156\" xlink:href=\"#DejaVuSans-55\"/>\n       <use x=\"159.033203\" xlink:href=\"#DejaVuSans-48\"/>\n      </g>\n     </g>\n    </g>\n    <g id=\"ytick_2\">\n     <g id=\"line2d_6\">\n      <g>\n       <use style=\"stroke:#000000;stroke-width:0.8;\" x=\"50.14375\" xlink:href=\"#m762e0670c6\" y=\"133.60061\"/>\n      </g>\n     </g>\n     <g id=\"text_6\">\n      <!-- 0.75 -->\n      <g transform=\"translate(20.878125 137.399829)scale(0.1 -0.1)\">\n       <defs>\n        <path d=\"M 10.796875 72.90625 \nL 49.515625 72.90625 \nL 49.515625 64.59375 \nL 19.828125 64.59375 \nL 19.828125 46.734375 \nQ 21.96875 47.46875 24.109375 47.828125 \nQ 26.265625 48.1875 28.421875 48.1875 \nQ 40.625 48.1875 47.75 41.5 \nQ 54.890625 34.8125 54.890625 23.390625 \nQ 54.890625 11.625 47.5625 5.09375 \nQ 40.234375 -1.421875 26.90625 -1.421875 \nQ 22.3125 -1.421875 17.546875 -0.640625 \nQ 12.796875 0.140625 7.71875 1.703125 \nL 7.71875 11.625 \nQ 12.109375 9.234375 16.796875 8.0625 \nQ 21.484375 6.890625 26.703125 6.890625 \nQ 35.15625 6.890625 40.078125 11.328125 \nQ 45.015625 15.765625 45.015625 23.390625 \nQ 45.015625 31 40.078125 35.4375 \nQ 35.15625 39.890625 26.703125 39.890625 \nQ 22.75 39.890625 18.8125 39.015625 \nQ 14.890625 38.140625 10.796875 36.28125 \nz\n\" id=\"DejaVuSans-53\"/>\n       </defs>\n       <use xlink:href=\"#DejaVuSans-48\"/>\n       <use x=\"63.623047\" xlink:href=\"#DejaVuSans-46\"/>\n       <use x=\"95.410156\" xlink:href=\"#DejaVuSans-55\"/>\n       <use x=\"159.033203\" xlink:href=\"#DejaVuSans-53\"/>\n      </g>\n     </g>\n    </g>\n    <g id=\"ytick_3\">\n     <g id=\"line2d_7\">\n      <g>\n       <use style=\"stroke:#000000;stroke-width:0.8;\" x=\"50.14375\" xlink:href=\"#m762e0670c6\" y=\"100.840893\"/>\n      </g>\n     </g>\n     <g id=\"text_7\">\n      <!-- 0.80 -->\n      <g transform=\"translate(20.878125 104.640112)scale(0.1 -0.1)\">\n       <defs>\n        <path d=\"M 31.78125 34.625 \nQ 24.75 34.625 20.71875 30.859375 \nQ 16.703125 27.09375 16.703125 20.515625 \nQ 16.703125 13.921875 20.71875 10.15625 \nQ 24.75 6.390625 31.78125 6.390625 \nQ 38.8125 6.390625 42.859375 10.171875 \nQ 46.921875 13.96875 46.921875 20.515625 \nQ 46.921875 27.09375 42.890625 30.859375 \nQ 38.875 34.625 31.78125 34.625 \nz\nM 21.921875 38.8125 \nQ 15.578125 40.375 12.03125 44.71875 \nQ 8.5 49.078125 8.5 55.328125 \nQ 8.5 64.0625 14.71875 69.140625 \nQ 20.953125 74.21875 31.78125 74.21875 \nQ 42.671875 74.21875 48.875 69.140625 \nQ 55.078125 64.0625 55.078125 55.328125 \nQ 55.078125 49.078125 51.53125 44.71875 \nQ 48 40.375 41.703125 38.8125 \nQ 48.828125 37.15625 52.796875 32.3125 \nQ 56.78125 27.484375 56.78125 20.515625 \nQ 56.78125 9.90625 50.3125 4.234375 \nQ 43.84375 -1.421875 31.78125 -1.421875 \nQ 19.734375 -1.421875 13.25 4.234375 \nQ 6.78125 9.90625 6.78125 20.515625 \nQ 6.78125 27.484375 10.78125 32.3125 \nQ 14.796875 37.15625 21.921875 38.8125 \nz\nM 18.3125 54.390625 \nQ 18.3125 48.734375 21.84375 45.5625 \nQ 25.390625 42.390625 31.78125 42.390625 \nQ 38.140625 42.390625 41.71875 45.5625 \nQ 45.3125 48.734375 45.3125 54.390625 \nQ 45.3125 60.0625 41.71875 63.234375 \nQ 38.140625 66.40625 31.78125 66.40625 \nQ 25.390625 66.40625 21.84375 63.234375 \nQ 18.3125 60.0625 18.3125 54.390625 \nz\n\" id=\"DejaVuSans-56\"/>\n       </defs>\n       <use xlink:href=\"#DejaVuSans-48\"/>\n       <use x=\"63.623047\" xlink:href=\"#DejaVuSans-46\"/>\n       <use x=\"95.410156\" xlink:href=\"#DejaVuSans-56\"/>\n       <use x=\"159.033203\" xlink:href=\"#DejaVuSans-48\"/>\n      </g>\n     </g>\n    </g>\n    <g id=\"ytick_4\">\n     <g id=\"line2d_8\">\n      <g>\n       <use style=\"stroke:#000000;stroke-width:0.8;\" x=\"50.14375\" xlink:href=\"#m762e0670c6\" y=\"68.081177\"/>\n      </g>\n     </g>\n     <g id=\"text_8\">\n      <!-- 0.85 -->\n      <g transform=\"translate(20.878125 71.880395)scale(0.1 -0.1)\">\n       <use xlink:href=\"#DejaVuSans-48\"/>\n       <use x=\"63.623047\" xlink:href=\"#DejaVuSans-46\"/>\n       <use x=\"95.410156\" xlink:href=\"#DejaVuSans-56\"/>\n       <use x=\"159.033203\" xlink:href=\"#DejaVuSans-53\"/>\n      </g>\n     </g>\n    </g>\n    <g id=\"ytick_5\">\n     <g id=\"line2d_9\">\n      <g>\n       <use style=\"stroke:#000000;stroke-width:0.8;\" x=\"50.14375\" xlink:href=\"#m762e0670c6\" y=\"35.32146\"/>\n      </g>\n     </g>\n     <g id=\"text_9\">\n      <!-- 0.90 -->\n      <g transform=\"translate(20.878125 39.120679)scale(0.1 -0.1)\">\n       <defs>\n        <path d=\"M 10.984375 1.515625 \nL 10.984375 10.5 \nQ 14.703125 8.734375 18.5 7.8125 \nQ 22.3125 6.890625 25.984375 6.890625 \nQ 35.75 6.890625 40.890625 13.453125 \nQ 46.046875 20.015625 46.78125 33.40625 \nQ 43.953125 29.203125 39.59375 26.953125 \nQ 35.25 24.703125 29.984375 24.703125 \nQ 19.046875 24.703125 12.671875 31.3125 \nQ 6.296875 37.9375 6.296875 49.421875 \nQ 6.296875 60.640625 12.9375 67.421875 \nQ 19.578125 74.21875 30.609375 74.21875 \nQ 43.265625 74.21875 49.921875 64.515625 \nQ 56.59375 54.828125 56.59375 36.375 \nQ 56.59375 19.140625 48.40625 8.859375 \nQ 40.234375 -1.421875 26.421875 -1.421875 \nQ 22.703125 -1.421875 18.890625 -0.6875 \nQ 15.09375 0.046875 10.984375 1.515625 \nz\nM 30.609375 32.421875 \nQ 37.25 32.421875 41.125 36.953125 \nQ 45.015625 41.5 45.015625 49.421875 \nQ 45.015625 57.28125 41.125 61.84375 \nQ 37.25 66.40625 30.609375 66.40625 \nQ 23.96875 66.40625 20.09375 61.84375 \nQ 16.21875 57.28125 16.21875 49.421875 \nQ 16.21875 41.5 20.09375 36.953125 \nQ 23.96875 32.421875 30.609375 32.421875 \nz\n\" id=\"DejaVuSans-57\"/>\n       </defs>\n       <use xlink:href=\"#DejaVuSans-48\"/>\n       <use x=\"63.623047\" xlink:href=\"#DejaVuSans-46\"/>\n       <use x=\"95.410156\" xlink:href=\"#DejaVuSans-57\"/>\n       <use x=\"159.033203\" xlink:href=\"#DejaVuSans-48\"/>\n      </g>\n     </g>\n    </g>\n    <g id=\"text_10\">\n     <!-- AUROC -->\n     <g transform=\"translate(14.798438 106.72125)rotate(-90)scale(0.1 -0.1)\">\n      <defs>\n       <path d=\"M 34.1875 63.1875 \nL 20.796875 26.90625 \nL 47.609375 26.90625 \nz\nM 28.609375 72.90625 \nL 39.796875 72.90625 \nL 67.578125 0 \nL 57.328125 0 \nL 50.6875 18.703125 \nL 17.828125 18.703125 \nL 11.1875 0 \nL 0.78125 0 \nz\n\" id=\"DejaVuSans-65\"/>\n       <path d=\"M 8.6875 72.90625 \nL 18.609375 72.90625 \nL 18.609375 28.609375 \nQ 18.609375 16.890625 22.84375 11.734375 \nQ 27.09375 6.59375 36.625 6.59375 \nQ 46.09375 6.59375 50.34375 11.734375 \nQ 54.59375 16.890625 54.59375 28.609375 \nL 54.59375 72.90625 \nL 64.5 72.90625 \nL 64.5 27.390625 \nQ 64.5 13.140625 57.4375 5.859375 \nQ 50.390625 -1.421875 36.625 -1.421875 \nQ 22.796875 -1.421875 15.734375 5.859375 \nQ 8.6875 13.140625 8.6875 27.390625 \nz\n\" id=\"DejaVuSans-85\"/>\n       <path d=\"M 39.40625 66.21875 \nQ 28.65625 66.21875 22.328125 58.203125 \nQ 16.015625 50.203125 16.015625 36.375 \nQ 16.015625 22.609375 22.328125 14.59375 \nQ 28.65625 6.59375 39.40625 6.59375 \nQ 50.140625 6.59375 56.421875 14.59375 \nQ 62.703125 22.609375 62.703125 36.375 \nQ 62.703125 50.203125 56.421875 58.203125 \nQ 50.140625 66.21875 39.40625 66.21875 \nz\nM 39.40625 74.21875 \nQ 54.734375 74.21875 63.90625 63.9375 \nQ 73.09375 53.65625 73.09375 36.375 \nQ 73.09375 19.140625 63.90625 8.859375 \nQ 54.734375 -1.421875 39.40625 -1.421875 \nQ 24.03125 -1.421875 14.8125 8.828125 \nQ 5.609375 19.09375 5.609375 36.375 \nQ 5.609375 53.65625 14.8125 63.9375 \nQ 24.03125 74.21875 39.40625 74.21875 \nz\n\" id=\"DejaVuSans-79\"/>\n       <path d=\"M 64.40625 67.28125 \nL 64.40625 56.890625 \nQ 59.421875 61.53125 53.78125 63.8125 \nQ 48.140625 66.109375 41.796875 66.109375 \nQ 29.296875 66.109375 22.65625 58.46875 \nQ 16.015625 50.828125 16.015625 36.375 \nQ 16.015625 21.96875 22.65625 14.328125 \nQ 29.296875 6.6875 41.796875 6.6875 \nQ 48.140625 6.6875 53.78125 8.984375 \nQ 59.421875 11.28125 64.40625 15.921875 \nL 64.40625 5.609375 \nQ 59.234375 2.09375 53.4375 0.328125 \nQ 47.65625 -1.421875 41.21875 -1.421875 \nQ 24.65625 -1.421875 15.125 8.703125 \nQ 5.609375 18.84375 5.609375 36.375 \nQ 5.609375 53.953125 15.125 64.078125 \nQ 24.65625 74.21875 41.21875 74.21875 \nQ 47.75 74.21875 53.53125 72.484375 \nQ 59.328125 70.75 64.40625 67.28125 \nz\n\" id=\"DejaVuSans-67\"/>\n      </defs>\n      <use xlink:href=\"#DejaVuSans-65\"/>\n      <use x=\"68.408203\" xlink:href=\"#DejaVuSans-85\"/>\n      <use x=\"141.601562\" xlink:href=\"#DejaVuSans-82\"/>\n      <use x=\"211.083984\" xlink:href=\"#DejaVuSans-79\"/>\n      <use x=\"289.794922\" xlink:href=\"#DejaVuSans-67\"/>\n     </g>\n    </g>\n   </g>\n   <g id=\"line2d_10\">\n    <path clip-path=\"url(#p2d0caf8739)\" d=\"M 98.96875 141.909056 \nL 98.96875 143.730939 \n\" style=\"fill:none;stroke:#3d3d3d;stroke-linecap:square;stroke-width:1.5;\"/>\n   </g>\n   <g id=\"line2d_11\">\n    <path clip-path=\"url(#p2d0caf8739)\" d=\"M 98.96875 62.783399 \nL 98.96875 32.726624 \n\" style=\"fill:none;stroke:#3d3d3d;stroke-linecap:square;stroke-width:1.5;\"/>\n   </g>\n   <g id=\"line2d_12\">\n    <path clip-path=\"url(#p2d0caf8739)\" d=\"M 79.43875 143.730939 \nL 118.49875 143.730939 \n\" style=\"fill:none;stroke:#3d3d3d;stroke-linecap:square;stroke-width:1.5;\"/>\n   </g>\n   <g id=\"line2d_13\">\n    <path clip-path=\"url(#p2d0caf8739)\" d=\"M 79.43875 32.726624 \nL 118.49875 32.726624 \n\" style=\"fill:none;stroke:#3d3d3d;stroke-linecap:square;stroke-width:1.5;\"/>\n   </g>\n   <g id=\"line2d_14\"/>\n   <g id=\"line2d_15\">\n    <path clip-path=\"url(#p2d0caf8739)\" d=\"M 196.61875 116.363953 \nL 196.61875 137.8172 \n\" style=\"fill:none;stroke:#3d3d3d;stroke-linecap:square;stroke-width:1.5;\"/>\n   </g>\n   <g id=\"line2d_16\">\n    <path clip-path=\"url(#p2d0caf8739)\" d=\"M 196.61875 67.108126 \nL 196.61875 14.612727 \n\" style=\"fill:none;stroke:#3d3d3d;stroke-linecap:square;stroke-width:1.5;\"/>\n   </g>\n   <g id=\"line2d_17\">\n    <path clip-path=\"url(#p2d0caf8739)\" d=\"M 177.08875 137.8172 \nL 216.14875 137.8172 \n\" style=\"fill:none;stroke:#3d3d3d;stroke-linecap:square;stroke-width:1.5;\"/>\n   </g>\n   <g id=\"line2d_18\">\n    <path clip-path=\"url(#p2d0caf8739)\" d=\"M 177.08875 14.612727 \nL 216.14875 14.612727 \n\" style=\"fill:none;stroke:#3d3d3d;stroke-linecap:square;stroke-width:1.5;\"/>\n   </g>\n   <g id=\"line2d_19\"/>\n   <g id=\"line2d_20\">\n    <path clip-path=\"url(#p2d0caf8739)\" d=\"M 294.26875 139.497361 \nL 294.26875 162.867273 \n\" style=\"fill:none;stroke:#3d3d3d;stroke-linecap:square;stroke-width:1.5;\"/>\n   </g>\n   <g id=\"line2d_21\">\n    <path clip-path=\"url(#p2d0caf8739)\" d=\"M 294.26875 67.058998 \nL 294.26875 26.938205 \n\" style=\"fill:none;stroke:#3d3d3d;stroke-linecap:square;stroke-width:1.5;\"/>\n   </g>\n   <g id=\"line2d_22\">\n    <path clip-path=\"url(#p2d0caf8739)\" d=\"M 274.73875 162.867273 \nL 313.79875 162.867273 \n\" style=\"fill:none;stroke:#3d3d3d;stroke-linecap:square;stroke-width:1.5;\"/>\n   </g>\n   <g id=\"line2d_23\">\n    <path clip-path=\"url(#p2d0caf8739)\" d=\"M 274.73875 26.938205 \nL 313.79875 26.938205 \n\" style=\"fill:none;stroke:#3d3d3d;stroke-linecap:square;stroke-width:1.5;\"/>\n   </g>\n   <g id=\"line2d_24\"/>\n   <g id=\"line2d_25\">\n    <path clip-path=\"url(#p2d0caf8739)\" d=\"M 391.91875 120.143935 \nL 391.91875 148.595725 \n\" style=\"fill:none;stroke:#3d3d3d;stroke-linecap:square;stroke-width:1.5;\"/>\n   </g>\n   <g id=\"line2d_26\">\n    <path clip-path=\"url(#p2d0caf8739)\" d=\"M 391.91875 66.443177 \nL 391.91875 26.339372 \n\" style=\"fill:none;stroke:#3d3d3d;stroke-linecap:square;stroke-width:1.5;\"/>\n   </g>\n   <g id=\"line2d_27\">\n    <path clip-path=\"url(#p2d0caf8739)\" d=\"M 372.38875 148.595725 \nL 411.44875 148.595725 \n\" style=\"fill:none;stroke:#3d3d3d;stroke-linecap:square;stroke-width:1.5;\"/>\n   </g>\n   <g id=\"line2d_28\">\n    <path clip-path=\"url(#p2d0caf8739)\" d=\"M 372.38875 26.339372 \nL 411.44875 26.339372 \n\" style=\"fill:none;stroke:#3d3d3d;stroke-linecap:square;stroke-width:1.5;\"/>\n   </g>\n   <g id=\"line2d_29\"/>\n   <g id=\"line2d_30\">\n    <path clip-path=\"url(#p2d0caf8739)\" d=\"M 59.90875 87.890605 \nL 138.02875 87.890605 \n\" style=\"fill:none;stroke:#3d3d3d;stroke-linecap:square;stroke-width:1.5;\"/>\n   </g>\n   <g id=\"line2d_31\">\n    <path clip-path=\"url(#p2d0caf8739)\" d=\"M 157.55875 70.538118 \nL 235.67875 70.538118 \n\" style=\"fill:none;stroke:#3d3d3d;stroke-linecap:square;stroke-width:1.5;\"/>\n   </g>\n   <g id=\"line2d_32\">\n    <path clip-path=\"url(#p2d0caf8739)\" d=\"M 255.20875 77.601957 \nL 333.32875 77.601957 \n\" style=\"fill:none;stroke:#3d3d3d;stroke-linecap:square;stroke-width:1.5;\"/>\n   </g>\n   <g id=\"line2d_33\">\n    <path clip-path=\"url(#p2d0caf8739)\" d=\"M 352.85875 86.176156 \nL 430.97875 86.176156 \n\" style=\"fill:none;stroke:#3d3d3d;stroke-linecap:square;stroke-width:1.5;\"/>\n   </g>\n   <g id=\"patch_7\">\n    <path d=\"M 50.14375 170.28 \nL 50.14375 7.2 \n\" style=\"fill:none;stroke:#000000;stroke-linecap:square;stroke-linejoin:miter;stroke-width:0.8;\"/>\n   </g>\n   <g id=\"patch_8\">\n    <path d=\"M 440.74375 170.28 \nL 440.74375 7.2 \n\" style=\"fill:none;stroke:#000000;stroke-linecap:square;stroke-linejoin:miter;stroke-width:0.8;\"/>\n   </g>\n   <g id=\"patch_9\">\n    <path d=\"M 50.14375 170.28 \nL 440.74375 170.28 \n\" style=\"fill:none;stroke:#000000;stroke-linecap:square;stroke-linejoin:miter;stroke-width:0.8;\"/>\n   </g>\n   <g id=\"patch_10\">\n    <path d=\"M 50.14375 7.2 \nL 440.74375 7.2 \n\" style=\"fill:none;stroke:#000000;stroke-linecap:square;stroke-linejoin:miter;stroke-width:0.8;\"/>\n   </g>\n  </g>\n </g>\n <defs>\n  <clipPath id=\"p2d0caf8739\">\n   <rect height=\"163.08\" width=\"390.6\" x=\"50.14375\" y=\"7.2\"/>\n  </clipPath>\n </defs>\n</svg>\n",
      "image/png": "[encoded data removed]"
     },
     "metadata": {
      "needs_background": "light"
     }
    }
   ],
   "source": [
    "df = pd.DataFrame(np.vstack([arrAUROCFixed, arrAUROCSiteInt, arrAUROCSiteSlope, arrAUROCSiteSlopeInt]),\n",
    "                    index=['Fixed effects', 'Random intercept', 'Random slope', 'Random slope \\nand intercept'])\n",
    "fig, ax = plt.subplots(figsize=(7, 3))                 \n",
    "sns.boxplot(data=df.T, ax=ax)\n",
    "ax.set_ylabel('AUROC')\n"
   ]
  },
  {
   "cell_type": "code",
   "execution_count": 115,
   "metadata": {},
   "outputs": [
    {
     "output_type": "stream",
     "name": "stdout",
     "text": [
      "Random intercept t = -2.231, p = 0.090\nRandom slope t = 0.178, p = 0.867\nRandom slope \nand intercept t = -0.484, p = 0.654\n"
     ]
    }
   ],
   "source": [
    "for strModel in df.index[1:]:\n",
    "    t, p = scipy.stats.ttest_rel(df.loc['Fixed effects'], df.loc[strModel])\n",
    "    print(strModel, f't = {t:.03f}, p = {p:.03f}')"
   ]
  }
 ]
}
{
 "metadata": {
  "language_info": {
   "codemirror_mode": {
    "name": "ipython",
    "version": 3
   },
   "file_extension": ".py",
   "mimetype": "text/x-python",
   "name": "python",
   "nbconvert_exporter": "python",
   "pygments_lexer": "ipython3",
   "version": "3.8.5-final"
  },
  "orig_nbformat": 2,
  "kernelspec": {
   "name": "python38564bit33533c998563450c8dda6dae3836e7da",
   "display_name": "Python 3.8.5 64-bit",
   "language": "python"
  }
 },
 "nbformat": 4,
 "nbformat_minor": 2,
 "cells": [
  {
   "cell_type": "code",
   "execution_count": 1,
   "metadata": {},
   "outputs": [],
   "source": [
    "UNETWEIGHTS = '/archive/bioinformatics/DLLab/KevinNguyen/results/MEDL/gbm_segmentation_augmentation_20210105/final_test/final_weights.h5'"
   ]
  },
  {
   "cell_type": "code",
   "execution_count": 4,
   "metadata": {},
   "outputs": [],
   "source": [
    "import sys\n",
    "import matplotlib.pyplot as plt\n",
    "import tensorflow.keras.backend as K\n",
    "sys.path.append('../../')\n",
    "from medl.models import unet \n",
    "\n",
    "# This should reset the layer number suffixes\n",
    "K.reset_uids()\n",
    "K.clear_session()"
   ]
  },
  {
   "cell_type": "code",
   "execution_count": 7,
   "metadata": {},
   "outputs": [
    {
     "output_type": "execute_result",
     "data": {
      "text/plain": [
       "(3, 3, 1024, 1024)"
      ]
     },
     "metadata": {},
     "execution_count": 7
    }
   ],
   "source": [
    "model = unet.unet(pretrained_weights=UNETWEIGHTS, input_size=(240, 240, 4))\n",
    "arrFeatureMaps = model.get_layer('conv2d_9').weights[0].numpy()\n",
    "arrFeatureMaps.shape"
   ]
  },
  {
   "cell_type": "code",
   "execution_count": 10,
   "metadata": {},
   "outputs": [
    {
     "output_type": "display_data",
     "data": {
      "text/plain": "<Figure size 432x288 with 16 Axes>",
      "image/svg+xml": "<?xml version=\"1.0\" encoding=\"utf-8\" standalone=\"no\"?>\n<!DOCTYPE svg PUBLIC \"-//W3C//DTD SVG 1.1//EN\"\n  \"http://www.w3.org/Graphics/SVG/1.1/DTD/svg11.dtd\">\n<!-- Created with matplotlib (https://matplotlib.org/) -->\n<svg height=\"231.84pt\" version=\"1.1\" viewBox=\"0 0 323.686957 231.84\" width=\"323.686957pt\" xmlns=\"http://www.w3.org/2000/svg\" xmlns:xlink=\"http://www.w3.org/1999/xlink\">\n <metadata>\n  <rdf:RDF xmlns:cc=\"http://creativecommons.org/ns#\" xmlns:dc=\"http://purl.org/dc/elements/1.1/\" xmlns:rdf=\"http://www.w3.org/1999/02/22-rdf-syntax-ns#\">\n   <cc:Work>\n    <dc:type rdf:resource=\"http://purl.org/dc/dcmitype/StillImage\"/>\n    <dc:date>2021-01-07T07:56:57.562085</dc:date>\n    <dc:format>image/svg+xml</dc:format>\n    <dc:creator>\n     <cc:Agent>\n      <dc:title>Matplotlib v3.3.1, https://matplotlib.org/</dc:title>\n     </cc:Agent>\n    </dc:creator>\n   </cc:Work>\n  </rdf:RDF>\n </metadata>\n <defs>\n  <style type=\"text/css\">*{stroke-linecap:butt;stroke-linejoin:round;}</style>\n </defs>\n <g id=\"figure_1\">\n  <g id=\"patch_1\">\n   <path d=\"M 0 231.84 \nL 323.686957 231.84 \nL 323.686957 0 \nL 0 0 \nz\n\" style=\"fill:none;\"/>\n  </g>\n  <g id=\"axes_1\">\n   <g clip-path=\"url(#p8b57c35b31)\">\n    <image height=\"48\" id=\"image68e2a1d364\" transform=\"scale(1 -1)translate(0 -48)\" width=\"48\" x=\"7.2\" xlink:href=\"data:image/png;base64,\niVBORw0KGgoAAAANSUhEUgAAADAAAAAwCAYAAABXAvmHAAAAk0lEQVR4nO3RsQnCYBRF4Rj+CTJBRghiEVJll5TO4gIpxMpBbDKF2AvpbSQOcYtj4Hz9fXB4h+N02apAc12SefU+D9G+jtZ/wACaATQDaAbQDKAZQDOAVrYw4Xnvon07f6L97j9gAM0AmgE0A2gG0AygGUAr6+kbHXiNt2j/6KP5/j9gAM0AmgE0A2gG0AygGUD7AcatDsgtgxYZAAAAAElFTkSuQmCC\" y=\"-6.469565\"/>\n   </g>\n  </g>\n  <g id=\"axes_2\">\n   <g clip-path=\"url(#pfbd1570ce0)\">\n    <image height=\"48\" id=\"image8bb2adb106\" transform=\"scale(1 -1)translate(0 -48)\" width=\"48\" x=\"94.53913\" xlink:href=\"data:image/png;base64,\niVBORw0KGgoAAAANSUhEUgAAADAAAAAwCAYAAABXAvmHAAAAmElEQVR4nO3ZIQ7CQAAF0S6pxvQCiLqqOg6E6h1wlZAmRXGiajxoFEcg9BBfDE3m+b/pZM0mLe14/VWBw3lJ5tVzOkb7XbT+AwbQDKAZQDOAZgDNAJoBtHrff6IDXpfsPd88SrTf/A0YQDOAZgDNAJoBNANoBtDK991G/we62xB9wHy6R/vN34ABNANoBtAMoBlAM4BmAG0Fnw4PDNpXXMYAAAAASUVORK5CYII=\" y=\"-6.469565\"/>\n   </g>\n  </g>\n  <g id=\"axes_3\">\n   <g clip-path=\"url(#p4385971ee3)\">\n    <image height=\"48\" id=\"image39cbb1f942\" transform=\"scale(1 -1)translate(0 -48)\" width=\"48\" x=\"181.878261\" xlink:href=\"data:image/png;base64,\niVBORw0KGgoAAAANSUhEUgAAADAAAAAwCAYAAABXAvmHAAAAlUlEQVR4nO3WoQ3CQABG4R7pAE0aXEU9FjaoYABG6QyVLICFVVBsU9UzMMQvHk3e5//LvZy5cprv3yawddG8qUON9odo/QcMoBlAM4BmAM0AmgE0A2hlKrfoQ1+vl+gC5+UT7Xf/AgbQDKAZQDOAZgDNAJoBtPb47qIDnuMj2r/WPtrv/gUMoBlAM4BmAM0AmgE0A2g/DVgPLyQAPsUAAAAASUVORK5CYII=\" y=\"-6.469565\"/>\n   </g>\n  </g>\n  <g id=\"axes_4\">\n   <g clip-path=\"url(#p2b9bd18f51)\">\n    <image height=\"48\" id=\"image0da30ded12\" transform=\"scale(1 -1)translate(0 -48)\" width=\"48\" x=\"269.217391\" xlink:href=\"data:image/png;base64,\niVBORw0KGgoAAAANSUhEUgAAADAAAAAwCAYAAABXAvmHAAAAmUlEQVR4nO3XoQ3CUBhF4T5sR0CWpKYLwAAdo8FiO0hXYA02QaBQCERdXYEhrjg0OZ+/yTv51St9PXyrwGdZknk1n4/Rfhet/4ABNANoBtAMoBlAM4BmAK2sr0P0H2ivl+gBzekZ7Td/AQNoBtAMoBlAM4BmAM0AWunGKfoP7G/v6AHr/RHtN38BA2gG0AygGUAzgGYAzQDaD0VaEop35Xs4AAAAAElFTkSuQmCC\" y=\"-6.469565\"/>\n   </g>\n  </g>\n  <g id=\"axes_5\">\n   <g clip-path=\"url(#p07f08c193e)\">\n    <image height=\"48\" id=\"imagecfd61364a6\" transform=\"scale(1 -1)translate(0 -48)\" width=\"48\" x=\"7.2\" xlink:href=\"data:image/png;base64,\niVBORw0KGgoAAAANSUhEUgAAADAAAAAwCAYAAABXAvmHAAAAmUlEQVR4nO3XoQ3CUBhF4b7WEdKkthMgMXhEk47TATpAXTWaIVgHU8kCGGCIKw5Nzudv8k5+9cp1WL5V4HG/JfPqsk7Rvo7Wf8AAmgE0A2gG0AygGUAzgFZO8xr9B9rnJ3rAcXtH+91fwACaATQDaAbQDKAZQDOAVl5bH/0HuuYQPWDsz9F+9xcwgGYAzQCaATQDaAbQDKD9AIf1DyacuyckAAAAAElFTkSuQmCC\" y=\"-63.193043\"/>\n   </g>\n  </g>\n  <g id=\"axes_6\">\n   <g clip-path=\"url(#p219531e919)\">\n    <image height=\"48\" id=\"image20d12479c2\" transform=\"scale(1 -1)translate(0 -48)\" width=\"48\" x=\"94.53913\" xlink:href=\"data:image/png;base64,\niVBORw0KGgoAAAANSUhEUgAAADAAAAAwCAYAAABXAvmHAAAAkUlEQVR4nO3XoRGDQAAFUQ6iKCEiLWBi8HgMHaQbOkCmISpJIpGBIr5YmNnn/8HOqSuPZd6rQL3Vybxq7lu0z75+AgbQDKAZQDOAZgDNAJoBtDKUKXoP7H0X/cCna6P95W/AAJoBNANoBtAMoBlAM4B2+7766ID/+Iv26/Md7S9/AwbQDKAZQDOAZgDNAJoBtAN+lA45azvwUwAAAABJRU5ErkJggg==\" y=\"-63.193043\"/>\n   </g>\n  </g>\n  <g id=\"axes_7\">\n   <g clip-path=\"url(#p06409aa9ae)\">\n    <image height=\"48\" id=\"image58c559fc24\" transform=\"scale(1 -1)translate(0 -48)\" width=\"48\" x=\"181.878261\" xlink:href=\"data:image/png;base64,\niVBORw0KGgoAAAANSUhEUgAAADAAAAAwCAYAAABXAvmHAAAAlklEQVR4nO3RoQ3CYBRF4dL8kgWYgYQBKqkmFSyBZQ8cI1SzAgpd2QVKOwYwxBWHJufz9yUnb3N8Xr9VoG6nZF69H/toX0frP2AAzQCaATQDaAbQDKAZQCvn3RAduCxztD/cmmi/+g8YQDOAZgDNAJoBNANoBtDKve+iA6/TGO23yyfar/4DBtAMoBlAM4BmAM0AmgG0H6HnD3Uu9iyEAAAAAElFTkSuQmCC\" y=\"-63.193043\"/>\n   </g>\n  </g>\n  <g id=\"axes_8\">\n   <g clip-path=\"url(#p5109aa4c02)\">\n    <image height=\"48\" id=\"imagefd505b57f5\" transform=\"scale(1 -1)translate(0 -48)\" width=\"48\" x=\"269.217391\" xlink:href=\"data:image/png;base64,\niVBORw0KGgoAAAANSUhEUgAAADAAAAAwCAYAAABXAvmHAAAAl0lEQVR4nO3XsQ2CQABG4cNQOAEbyACUxrgEQziJlQ4ABdto7RwUJNJrdIi/eCF5X/9f7uWqq4797VcC1/uYzMt5H83LLpvzDKAZQDOAZgDNAJoBNANoVf+8RP+B16ONLnCY5mi/+RcwgGYAzQCaATQDaAbQDKDV62mJDvgM32j/7ppov/kXMIBmAM0AmgE0A2gG0Ayg/QF5mRAtH5xqUAAAAABJRU5ErkJggg==\" y=\"-63.193043\"/>\n   </g>\n  </g>\n  <g id=\"axes_9\">\n   <g clip-path=\"url(#p736f400000)\">\n    <image height=\"48\" id=\"image56e495db04\" transform=\"scale(1 -1)translate(0 -48)\" width=\"48\" x=\"7.2\" xlink:href=\"data:image/png;base64,\niVBORw0KGgoAAAANSUhEUgAAADAAAAAwCAYAAABXAvmHAAAAkElEQVR4nO3ZIQ7CQBgF4WVbgSFp74DlgqiKWnQvVEuCQeBIuAAO13KIJ6ZN5vPv34zew3m8rSVweifrUvrXL9rX7HmeATQDaAbQDKAZQDOAZgCtPV6+0YH100X7Oj+yfbTeAANoBtAMoBlAM4BmAM0AWtvUJTpwH6Zo/7z6P7BvBtAMoBlAM4BmAM0A2u4D/o2DD0AQVvetAAAAAElFTkSuQmCC\" y=\"-119.916522\"/>\n   </g>\n  </g>\n  <g id=\"axes_10\">\n   <g clip-path=\"url(#p959e9e255c)\">\n    <image height=\"48\" id=\"image1eba21712b\" transform=\"scale(1 -1)translate(0 -48)\" width=\"48\" x=\"94.53913\" xlink:href=\"data:image/png;base64,\niVBORw0KGgoAAAANSUhEUgAAADAAAAAwCAYAAABXAvmHAAAAlklEQVR4nO3XsQ2CQABGYRC1oqSyMUa2cAtWYBjGILYuYNzA2iUYARvUIf7iSfK+/r/cy1VXHq/Dtwicx08yL+ZmH+030foPGEAzgGYAzQCaATQDaAbQymVqo//A6dFHFzjcd9F+9S9gAM0AmgE0A2gG0AygGUDbXl5ddsK7iub17RntV/8CBtAMoBlAM4BmAM0AmgG0H9IhDmohnv8bAAAAAElFTkSuQmCC\" y=\"-119.916522\"/>\n   </g>\n  </g>\n  <g id=\"axes_11\">\n   <g clip-path=\"url(#pa90ec6abee)\">\n    <image height=\"48\" id=\"image6e42b3d061\" transform=\"scale(1 -1)translate(0 -48)\" width=\"48\" x=\"181.878261\" xlink:href=\"data:image/png;base64,\niVBORw0KGgoAAAANSUhEUgAAADAAAAAwCAYAAABXAvmHAAAAk0lEQVR4nO3RsQ2CABRFUTQUFiQuhCswhRMwhgs4iKEgLECsGILYQysJDvGKK8k9/fvJzT/VzWMvApfXO5kX/WeK9udo/QcMoBlAM4BmAM0AmgE0A2jlel+jA91zjPbztkX7w3/AAJoBNANoBtAMoBlAM4BWLvM1OnAb2mj/raL58T9gAM0AmgE0A2gG0AygGUD7AUbREfgbWJZcAAAAAElFTkSuQmCC\" y=\"-119.916522\"/>\n   </g>\n  </g>\n  <g id=\"axes_12\">\n   <g clip-path=\"url(#p17632ba2cf)\">\n    <image height=\"48\" id=\"image8c3b4315be\" transform=\"scale(1 -1)translate(0 -48)\" width=\"48\" x=\"269.217391\" xlink:href=\"data:image/png;base64,\niVBORw0KGgoAAAANSUhEUgAAADAAAAAwCAYAAABXAvmHAAAAmUlEQVR4nO3ZsQ2CQABGYTBMQbxI4QBWxg10DwawcBEXcRMnMIbGgo7C3sAQf/EkeV//X+7lyqsv5TpXge9xm8yrcntF+020/gMG0AygGUAzgGYAzQCaAbRm6HfRAd1jivbPT4n2q38BA2gG0AygGUAzgGYAzQBa/Rv30f/AuT1EF3jfT9F+9S9gAM0AmgE0A2gG0AygGUBbABp2DwX26GKDAAAAAElFTkSuQmCC\" y=\"-119.916522\"/>\n   </g>\n  </g>\n  <g id=\"axes_13\">\n   <g clip-path=\"url(#pbdd737bb17)\">\n    <image height=\"48\" id=\"image942e9354d8\" transform=\"scale(1 -1)translate(0 -48)\" width=\"48\" x=\"7.2\" xlink:href=\"data:image/png;base64,\niVBORw0KGgoAAAANSUhEUgAAADAAAAAwCAYAAABXAvmHAAAAlklEQVR4nO3ZoQ2DUBhF4UdD6lFdoAvQMaoZhQ26RAWGKboGHtEmFUgclg5xxSnJ+fx9yckvX9VP3V4C061K5mUe22h/itZ/wACaATQDaAbQDKAZQDOAVn+3JnthX6P55XWO9oe/gAE0A2gG0AygGUAzgGYArV4e1+iBzxB9L5T3/RntD38BA2gG0AygGUAzgGYAzQDaDzQXECFVi9r6AAAAAElFTkSuQmCC\" y=\"-176.64\"/>\n   </g>\n  </g>\n  <g id=\"axes_14\">\n   <g clip-path=\"url(#p21ef8d6404)\">\n    <image height=\"48\" id=\"image39a45da27e\" transform=\"scale(1 -1)translate(0 -48)\" width=\"48\" x=\"94.53913\" xlink:href=\"data:image/png;base64,\niVBORw0KGgoAAAANSUhEUgAAADAAAAAwCAYAAABXAvmHAAAAk0lEQVR4nO3XsQ3CMAAFUTuiSBqGYIm0FBmBJhNkGXahZguGiKBiAUAkQ/ziEule/y2fXLkO9bKUwP35SObldJuifROtN8AAmgE0A2gG0AygGUAzgFb78Rr9B5pfNC/t+xvtd/8CBtAMoBlAM4BmAM0AmgG0w+v8zw44frIbzF003/0LGEAzgGYAzQCaATQDaAbQVnePD8YZijkXAAAAAElFTkSuQmCC\" y=\"-176.64\"/>\n   </g>\n  </g>\n  <g id=\"axes_15\">\n   <g clip-path=\"url(#pf80cb339b3)\">\n    <image height=\"48\" id=\"image9705ab7d08\" transform=\"scale(1 -1)translate(0 -48)\" width=\"48\" x=\"181.878261\" xlink:href=\"data:image/png;base64,\niVBORw0KGgoAAAANSUhEUgAAADAAAAAwCAYAAABXAvmHAAAAk0lEQVR4nO3RsQmDABRFURUhTXpxAVewDZnCrJFtnCF9CIgDZJRUNkLszBCvuBHu6d+Hyy8v830vAqfbN5kX3WuJ9lW0/gMG0AygGUAzgGYAzQCaAbR6G9vowGdco/2znaL94T9gAM0AmgE0A2gG0AygGUCrz493dKDc+2g/NNdof/gPGEAzgGYAzQCaATQDaAbQfjTiDwhgEOauAAAAAElFTkSuQmCC\" y=\"-176.64\"/>\n   </g>\n  </g>\n  <g id=\"axes_16\">\n   <g clip-path=\"url(#paa910d6bab)\">\n    <image height=\"48\" id=\"image53219dea1a\" transform=\"scale(1 -1)translate(0 -48)\" width=\"48\" x=\"269.217391\" xlink:href=\"data:image/png;base64,\niVBORw0KGgoAAAANSUhEUgAAADAAAAAwCAYAAABXAvmHAAAAkklEQVR4nO3ZoQ2DUBhFYV7DGpW42go8EzQdBFR9ddM50CjCNoyAQpYhrjglOZ+/yTv55Su3/vurAuPwSebVa31E+0u0/gMG0AygGUAzgGYAzQCaAbQ6TRi3e7Sfmjnan/4CBtAMoBlAM4BmAM0AmgG00pVn9D+wvtvoAddlj/anv4ABNANoBtAMoBlAM4BmAO0A4QYOOpbs5wAAAAAASUVORK5CYII=\" y=\"-176.64\"/>\n   </g>\n  </g>\n </g>\n <defs>\n  <clipPath id=\"p8b57c35b31\">\n   <rect height=\"47.269565\" width=\"47.269565\" x=\"7.2\" y=\"7.2\"/>\n  </clipPath>\n  <clipPath id=\"pfbd1570ce0\">\n   <rect height=\"47.269565\" width=\"47.269565\" x=\"94.53913\" y=\"7.2\"/>\n  </clipPath>\n  <clipPath id=\"p4385971ee3\">\n   <rect height=\"47.269565\" width=\"47.269565\" x=\"181.878261\" y=\"7.2\"/>\n  </clipPath>\n  <clipPath id=\"p2b9bd18f51\">\n   <rect height=\"47.269565\" width=\"47.269565\" x=\"269.217391\" y=\"7.2\"/>\n  </clipPath>\n  <clipPath id=\"p07f08c193e\">\n   <rect height=\"47.269565\" width=\"47.269565\" x=\"7.2\" y=\"63.923478\"/>\n  </clipPath>\n  <clipPath id=\"p219531e919\">\n   <rect height=\"47.269565\" width=\"47.269565\" x=\"94.53913\" y=\"63.923478\"/>\n  </clipPath>\n  <clipPath id=\"p06409aa9ae\">\n   <rect height=\"47.269565\" width=\"47.269565\" x=\"181.878261\" y=\"63.923478\"/>\n  </clipPath>\n  <clipPath id=\"p5109aa4c02\">\n   <rect height=\"47.269565\" width=\"47.269565\" x=\"269.217391\" y=\"63.923478\"/>\n  </clipPath>\n  <clipPath id=\"p736f400000\">\n   <rect height=\"47.269565\" width=\"47.269565\" x=\"7.2\" y=\"120.646957\"/>\n  </clipPath>\n  <clipPath id=\"p959e9e255c\">\n   <rect height=\"47.269565\" width=\"47.269565\" x=\"94.53913\" y=\"120.646957\"/>\n  </clipPath>\n  <clipPath id=\"pa90ec6abee\">\n   <rect height=\"47.269565\" width=\"47.269565\" x=\"181.878261\" y=\"120.646957\"/>\n  </clipPath>\n  <clipPath id=\"p17632ba2cf\">\n   <rect height=\"47.269565\" width=\"47.269565\" x=\"269.217391\" y=\"120.646957\"/>\n  </clipPath>\n  <clipPath id=\"pbdd737bb17\">\n   <rect height=\"47.269565\" width=\"47.269565\" x=\"7.2\" y=\"177.370435\"/>\n  </clipPath>\n  <clipPath id=\"p21ef8d6404\">\n   <rect height=\"47.269565\" width=\"47.269565\" x=\"94.53913\" y=\"177.370435\"/>\n  </clipPath>\n  <clipPath id=\"pf80cb339b3\">\n   <rect height=\"47.269565\" width=\"47.269565\" x=\"181.878261\" y=\"177.370435\"/>\n  </clipPath>\n  <clipPath id=\"paa910d6bab\">\n   <rect height=\"47.269565\" width=\"47.269565\" x=\"269.217391\" y=\"177.370435\"/>\n  </clipPath>\n </defs>\n</svg>\n",
      "image/png": "[encoded data removed]"
     },
     "metadata": {
      "needs_background": "light"
     }
    }
   ],
   "source": [
    "# Show the first few feature maps\n",
    "fig, ax = plt.subplots(4, 4)\n",
    "for i in range(16):\n",
    "    ax.flatten()[i].imshow(arrFeatureMaps[:, :, i, 5])\n",
    "    ax.flatten()[i].axis('off')"
   ]
  }
 ]
}